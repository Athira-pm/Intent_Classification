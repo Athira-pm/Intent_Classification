{
 "cells": [
  {
   "cell_type": "markdown",
   "metadata": {},
   "source": [
    "# Intent Classification - Chatbot - FastText Embeddings"
   ]
  },
  {
   "cell_type": "code",
   "execution_count": 1,
   "metadata": {},
   "outputs": [],
   "source": [
    "from nltk import word_tokenize\n",
    "import pandas as pd \n",
    "import numpy as np\n",
    "import spacy\n",
    "import re\n",
    "from pandas import DataFrame\n",
    "import seaborn as sns\n",
    "import matplotlib.pyplot as plt\n",
    "import json\n",
    "from sklearn.model_selection import train_test_split\n",
    "from gensim.models import FastText"
   ]
  },
  {
   "cell_type": "code",
   "execution_count": 2,
   "metadata": {},
   "outputs": [
    {
     "name": "stderr",
     "output_type": "stream",
     "text": [
      "Using TensorFlow backend.\n"
     ]
    }
   ],
   "source": [
    "from keras.preprocessing.text import Tokenizer\n",
    "from keras.preprocessing.sequence import pad_sequences\n",
    "\n",
    "from tensorflow.keras.models import Sequential, load_model, Model\n",
    "from tensorflow.keras.layers import Dense, Activation, Dropout, Embedding, LSTM, Bidirectional, SpatialDropout1D\n",
    "from tensorflow.keras import regularizers, optimizers\n",
    "from tensorflow.keras.callbacks import EarlyStopping\n",
    "from keras.callbacks import ModelCheckpoint\n",
    "from tensorflow.keras.layers import Flatten, Conv1D, GlobalMaxPooling1D, MaxPooling1D, concatenate, Input\n"
   ]
  },
  {
   "cell_type": "code",
   "execution_count": 3,
   "metadata": {},
   "outputs": [],
   "source": [
    "with open(\"ChatbotCorpus.json\", 'r', encoding='utf-8') as f:\n",
    "    data = json.load(f)\n",
    "    intent_data = [[dat[\"text\"], dat[\"intent\"]] for dat in data[\"sentences\"]]"
   ]
  },
  {
   "cell_type": "code",
   "execution_count": 4,
   "metadata": {},
   "outputs": [
    {
     "data": {
      "text/html": [
       "<div>\n",
       "<style scoped>\n",
       "    .dataframe tbody tr th:only-of-type {\n",
       "        vertical-align: middle;\n",
       "    }\n",
       "\n",
       "    .dataframe tbody tr th {\n",
       "        vertical-align: top;\n",
       "    }\n",
       "\n",
       "    .dataframe thead th {\n",
       "        text-align: right;\n",
       "    }\n",
       "</style>\n",
       "<table border=\"1\" class=\"dataframe\">\n",
       "  <thead>\n",
       "    <tr style=\"text-align: right;\">\n",
       "      <th></th>\n",
       "      <th>Chat</th>\n",
       "      <th>Intent</th>\n",
       "    </tr>\n",
       "  </thead>\n",
       "  <tbody>\n",
       "    <tr>\n",
       "      <th>0</th>\n",
       "      <td>i want to go marienplatz</td>\n",
       "      <td>FindConnection</td>\n",
       "    </tr>\n",
       "    <tr>\n",
       "      <th>1</th>\n",
       "      <td>when is the next train in muncher freiheit?</td>\n",
       "      <td>DepartureTime</td>\n",
       "    </tr>\n",
       "    <tr>\n",
       "      <th>2</th>\n",
       "      <td>when does the next u-bahn leaves from garching...</td>\n",
       "      <td>DepartureTime</td>\n",
       "    </tr>\n",
       "    <tr>\n",
       "      <th>3</th>\n",
       "      <td>from olympia einkaufszentrum to hauptbahnhof</td>\n",
       "      <td>FindConnection</td>\n",
       "    </tr>\n",
       "    <tr>\n",
       "      <th>4</th>\n",
       "      <td>when is the next train from winterstraße 12 to...</td>\n",
       "      <td>FindConnection</td>\n",
       "    </tr>\n",
       "  </tbody>\n",
       "</table>\n",
       "</div>"
      ],
      "text/plain": [
       "                                                Chat          Intent\n",
       "0                           i want to go marienplatz  FindConnection\n",
       "1        when is the next train in muncher freiheit?   DepartureTime\n",
       "2  when does the next u-bahn leaves from garching...   DepartureTime\n",
       "3       from olympia einkaufszentrum to hauptbahnhof  FindConnection\n",
       "4  when is the next train from winterstraße 12 to...  FindConnection"
      ]
     },
     "execution_count": 4,
     "metadata": {},
     "output_type": "execute_result"
    }
   ],
   "source": [
    "df = DataFrame (intent_data,columns=['Chat','Intent'])\n",
    "df.head()"
   ]
  },
  {
   "cell_type": "code",
   "execution_count": 5,
   "metadata": {},
   "outputs": [],
   "source": [
    "def clean_text(text):\n",
    "    text = re.sub(r'[^A-Za-z0-9 ]+', '', text)\n",
    "    text = text.lower()\n",
    "    return text"
   ]
  },
  {
   "cell_type": "code",
   "execution_count": 6,
   "metadata": {},
   "outputs": [],
   "source": [
    "df['Chat'] = df['Chat'].apply(clean_text)"
   ]
  },
  {
   "cell_type": "code",
   "execution_count": 7,
   "metadata": {},
   "outputs": [
    {
     "data": {
      "text/html": [
       "<div>\n",
       "<style scoped>\n",
       "    .dataframe tbody tr th:only-of-type {\n",
       "        vertical-align: middle;\n",
       "    }\n",
       "\n",
       "    .dataframe tbody tr th {\n",
       "        vertical-align: top;\n",
       "    }\n",
       "\n",
       "    .dataframe thead th {\n",
       "        text-align: right;\n",
       "    }\n",
       "</style>\n",
       "<table border=\"1\" class=\"dataframe\">\n",
       "  <thead>\n",
       "    <tr style=\"text-align: right;\">\n",
       "      <th></th>\n",
       "      <th>Chat</th>\n",
       "      <th>Intent</th>\n",
       "    </tr>\n",
       "  </thead>\n",
       "  <tbody>\n",
       "    <tr>\n",
       "      <th>0</th>\n",
       "      <td>i want to go marienplatz</td>\n",
       "      <td>FindConnection</td>\n",
       "    </tr>\n",
       "    <tr>\n",
       "      <th>1</th>\n",
       "      <td>when is the next train in muncher freiheit</td>\n",
       "      <td>DepartureTime</td>\n",
       "    </tr>\n",
       "    <tr>\n",
       "      <th>2</th>\n",
       "      <td>when does the next ubahn leaves from garching ...</td>\n",
       "      <td>DepartureTime</td>\n",
       "    </tr>\n",
       "    <tr>\n",
       "      <th>3</th>\n",
       "      <td>from olympia einkaufszentrum to hauptbahnhof</td>\n",
       "      <td>FindConnection</td>\n",
       "    </tr>\n",
       "    <tr>\n",
       "      <th>4</th>\n",
       "      <td>when is the next train from winterstrae 12 to ...</td>\n",
       "      <td>FindConnection</td>\n",
       "    </tr>\n",
       "  </tbody>\n",
       "</table>\n",
       "</div>"
      ],
      "text/plain": [
       "                                                Chat          Intent\n",
       "0                           i want to go marienplatz  FindConnection\n",
       "1         when is the next train in muncher freiheit   DepartureTime\n",
       "2  when does the next ubahn leaves from garching ...   DepartureTime\n",
       "3       from olympia einkaufszentrum to hauptbahnhof  FindConnection\n",
       "4  when is the next train from winterstrae 12 to ...  FindConnection"
      ]
     },
     "execution_count": 7,
     "metadata": {},
     "output_type": "execute_result"
    }
   ],
   "source": [
    "df.head()"
   ]
  },
  {
   "cell_type": "code",
   "execution_count": 8,
   "metadata": {},
   "outputs": [
    {
     "data": {
      "text/plain": [
       "array(['FindConnection', 'DepartureTime'], dtype=object)"
      ]
     },
     "execution_count": 8,
     "metadata": {},
     "output_type": "execute_result"
    }
   ],
   "source": [
    "intents = df['Intent'].unique()\n",
    "intents"
   ]
  },
  {
   "cell_type": "code",
   "execution_count": 9,
   "metadata": {},
   "outputs": [],
   "source": [
    "df[\"words\"] = df[\"Chat\"].apply(word_tokenize)"
   ]
  },
  {
   "cell_type": "code",
   "execution_count": 10,
   "metadata": {},
   "outputs": [
    {
     "data": {
      "text/html": [
       "<div>\n",
       "<style scoped>\n",
       "    .dataframe tbody tr th:only-of-type {\n",
       "        vertical-align: middle;\n",
       "    }\n",
       "\n",
       "    .dataframe tbody tr th {\n",
       "        vertical-align: top;\n",
       "    }\n",
       "\n",
       "    .dataframe thead th {\n",
       "        text-align: right;\n",
       "    }\n",
       "</style>\n",
       "<table border=\"1\" class=\"dataframe\">\n",
       "  <thead>\n",
       "    <tr style=\"text-align: right;\">\n",
       "      <th></th>\n",
       "      <th>Chat</th>\n",
       "      <th>Intent</th>\n",
       "      <th>words</th>\n",
       "    </tr>\n",
       "  </thead>\n",
       "  <tbody>\n",
       "    <tr>\n",
       "      <th>0</th>\n",
       "      <td>i want to go marienplatz</td>\n",
       "      <td>FindConnection</td>\n",
       "      <td>[i, want, to, go, marienplatz]</td>\n",
       "    </tr>\n",
       "    <tr>\n",
       "      <th>1</th>\n",
       "      <td>when is the next train in muncher freiheit</td>\n",
       "      <td>DepartureTime</td>\n",
       "      <td>[when, is, the, next, train, in, muncher, frei...</td>\n",
       "    </tr>\n",
       "    <tr>\n",
       "      <th>2</th>\n",
       "      <td>when does the next ubahn leaves from garching ...</td>\n",
       "      <td>DepartureTime</td>\n",
       "      <td>[when, does, the, next, ubahn, leaves, from, g...</td>\n",
       "    </tr>\n",
       "    <tr>\n",
       "      <th>3</th>\n",
       "      <td>from olympia einkaufszentrum to hauptbahnhof</td>\n",
       "      <td>FindConnection</td>\n",
       "      <td>[from, olympia, einkaufszentrum, to, hauptbahn...</td>\n",
       "    </tr>\n",
       "    <tr>\n",
       "      <th>4</th>\n",
       "      <td>when is the next train from winterstrae 12 to ...</td>\n",
       "      <td>FindConnection</td>\n",
       "      <td>[when, is, the, next, train, from, winterstrae...</td>\n",
       "    </tr>\n",
       "  </tbody>\n",
       "</table>\n",
       "</div>"
      ],
      "text/plain": [
       "                                                Chat          Intent  \\\n",
       "0                           i want to go marienplatz  FindConnection   \n",
       "1         when is the next train in muncher freiheit   DepartureTime   \n",
       "2  when does the next ubahn leaves from garching ...   DepartureTime   \n",
       "3       from olympia einkaufszentrum to hauptbahnhof  FindConnection   \n",
       "4  when is the next train from winterstrae 12 to ...  FindConnection   \n",
       "\n",
       "                                               words  \n",
       "0                     [i, want, to, go, marienplatz]  \n",
       "1  [when, is, the, next, train, in, muncher, frei...  \n",
       "2  [when, does, the, next, ubahn, leaves, from, g...  \n",
       "3  [from, olympia, einkaufszentrum, to, hauptbahn...  \n",
       "4  [when, is, the, next, train, from, winterstrae...  "
      ]
     },
     "execution_count": 10,
     "metadata": {},
     "output_type": "execute_result"
    }
   ],
   "source": [
    "df.head()"
   ]
  },
  {
   "cell_type": "code",
   "execution_count": 11,
   "metadata": {},
   "outputs": [],
   "source": [
    "word_list = df.words.tolist()"
   ]
  },
  {
   "cell_type": "markdown",
   "metadata": {},
   "source": [
    "# Create and save FastText Embeddings"
   ]
  },
  {
   "cell_type": "raw",
   "metadata": {},
   "source": [
    "\n",
    "model_ft = FastText(size=100, window=3, min_count=1)\n",
    "model_ft.build_vocab(word_list)\n",
    "model_ft.train(word_list, total_examples=len(word_list), epochs=model_ft.epochs)\n",
    "model_ft.save('chat_wv')\n",
    "#model_ft.save_word2vec_format('ft_w2v')"
   ]
  },
  {
   "cell_type": "raw",
   "metadata": {},
   "source": [
    "model_ft.wv.save_word2vec_format('chat_w2v.txt'.format(model_ft), binary=False)"
   ]
  },
  {
   "cell_type": "code",
   "execution_count": 14,
   "metadata": {},
   "outputs": [
    {
     "name": "stdout",
     "output_type": "stream",
     "text": [
      "Found 174 unique tokens.\n"
     ]
    }
   ],
   "source": [
    "MAX_NB_WORDS = 500\n",
    "MAX_SEQUENCE_LENGTH = 100\n",
    "EMBEDDING_DIM = 100\n",
    "tokenizer = Tokenizer(num_words=MAX_NB_WORDS, filters='!\"#$%&()*+,-./:;<=>?@[\\]^_`{|}~', lower=True)\n",
    "tokenizer.fit_on_texts(df['Chat'].values)\n",
    "word_index = tokenizer.word_index\n",
    "NB_WORDS = len(word_index)+1\n",
    "print('Found %s unique tokens.' % NB_WORDS)"
   ]
  },
  {
   "cell_type": "code",
   "execution_count": 15,
   "metadata": {},
   "outputs": [
    {
     "name": "stdout",
     "output_type": "stream",
     "text": [
      "Shape of data tensor: (206, 100)\n"
     ]
    }
   ],
   "source": [
    "X = tokenizer.texts_to_sequences(df['Chat'].values)\n",
    "X = pad_sequences(X, maxlen=MAX_SEQUENCE_LENGTH)\n",
    "\n",
    "print('Shape of data tensor:', X.shape)"
   ]
  },
  {
   "cell_type": "code",
   "execution_count": 16,
   "metadata": {},
   "outputs": [
    {
     "name": "stdout",
     "output_type": "stream",
     "text": [
      "Shape of label tensor: (206, 2)\n"
     ]
    }
   ],
   "source": [
    "Y = pd.get_dummies(df['Intent']).values\n",
    "\n",
    "print('Shape of label tensor:', Y.shape)\n"
   ]
  },
  {
   "cell_type": "code",
   "execution_count": 17,
   "metadata": {},
   "outputs": [],
   "source": [
    "X_train, X_test, Y_train, Y_test = train_test_split(X, Y, shuffle = True, test_size = 0.2)"
   ]
  },
  {
   "cell_type": "code",
   "execution_count": 18,
   "metadata": {},
   "outputs": [],
   "source": [
    "def plot(history):\n",
    "    acc = history.history['accuracy']\n",
    "    val_acc = history.history['val_accuracy']\n",
    "    loss = history.history['loss']\n",
    "    val_loss = history.history['val_loss']\n",
    "    plt.figure(figsize=(10, 5))\n",
    "    \n",
    "    plt.subplot(1, 2, 1)\n",
    "    plt.plot( acc, 'b', label='Train')\n",
    "    plt.plot( val_acc, 'r', label='Test')\n",
    "    plt.title('Accuracy')\n",
    "    plt.legend()\n",
    "    \n",
    "    plt.subplot(1, 2, 2)\n",
    "    plt.plot( loss, 'b', label='Train')\n",
    "    plt.plot(val_loss, 'r', label='Test')\n",
    "    plt.title('Loss')\n",
    "    plt.legend()\n"
   ]
  },
  {
   "cell_type": "code",
   "execution_count": 19,
   "metadata": {},
   "outputs": [],
   "source": [
    "def pred(model,text,classes):\n",
    "    text = clean_text(text)\n",
    "    tokenizer = Tokenizer(num_words=NB_WORDS, filters='!\"#$%&()*+,-./:;<=>?@[\\]^_`{|}~', lower=True)\n",
    "    tokenizer.fit_on_texts([word_tokenize(text)])\n",
    "    word_index = tokenizer.word_index\n",
    "    # Sequence and padding\n",
    "    P = tokenizer.texts_to_sequences([[text]])\n",
    "    P = pad_sequences(P, maxlen=MAX_SEQUENCE_LENGTH)\n",
    "    # print('Shape of tensor:', P.shape)\n",
    "    # Class Prediction\n",
    "    predict = model.predict(P)\n",
    "    #x = np.argmax(predict, axis=-1)\n",
    "    predict=predict[0]\n",
    "    for i in range(len(predict)):\n",
    "        print(\"%s  = %s\" %(classes[i], (predict[i])))"
   ]
  },
  {
   "cell_type": "code",
   "execution_count": 20,
   "metadata": {},
   "outputs": [],
   "source": [
    "import codecs\n",
    "f = codecs.open('chat_w2v.txt', encoding='utf-8')"
   ]
  },
  {
   "cell_type": "code",
   "execution_count": 21,
   "metadata": {},
   "outputs": [
    {
     "name": "stderr",
     "output_type": "stream",
     "text": [
      "174it [00:00, 10041.40it/s]"
     ]
    },
    {
     "name": "stdout",
     "output_type": "stream",
     "text": [
      "Done.\n",
      " Proceeding with Embedding Matrix... Completed!\n"
     ]
    },
    {
     "name": "stderr",
     "output_type": "stream",
     "text": [
      "\n"
     ]
    }
   ],
   "source": [
    "from tqdm import tqdm\n",
    "embeddings_index = {}\n",
    "for line in tqdm(f):\n",
    "    values = line.rstrip().rsplit(' ')\n",
    "    word = values[0]\n",
    "    embeddings_index[word] = np.asarray(values[1:], dtype='float32')\n",
    "\n",
    "print(\"Done.\\n Proceeding with Embedding Matrix...\", end=\"\")\n",
    "embedding_matrix = np.random.random((len(word_index) + 1, EMBEDDING_DIM))\n",
    "for word, i in word_index.items():\n",
    "    embedding_vector = embeddings_index.get(word)\n",
    "    if embedding_vector is not None:\n",
    "        embedding_matrix[i] = embedding_vector\n",
    "#print(len(embedding_matrix))\n",
    "print(\" Completed!\")\n",
    "f.close()"
   ]
  },
  {
   "cell_type": "markdown",
   "metadata": {},
   "source": [
    "# LSTM Model with FastText Embeddings"
   ]
  },
  {
   "cell_type": "code",
   "execution_count": 30,
   "metadata": {},
   "outputs": [
    {
     "name": "stdout",
     "output_type": "stream",
     "text": [
      "Model: \"sequential_2\"\n",
      "_________________________________________________________________\n",
      "Layer (type)                 Output Shape              Param #   \n",
      "=================================================================\n",
      "embedding_2 (Embedding)      (None, 100, 100)          17400     \n",
      "_________________________________________________________________\n",
      "spatial_dropout1d_2 (Spatial (None, 100, 100)          0         \n",
      "_________________________________________________________________\n",
      "lstm_2 (LSTM)                (None, 100)               80400     \n",
      "_________________________________________________________________\n",
      "dense_4 (Dense)              (None, 50)                5050      \n",
      "_________________________________________________________________\n",
      "dense_5 (Dense)              (None, 2)                 102       \n",
      "=================================================================\n",
      "Total params: 102,952\n",
      "Trainable params: 102,952\n",
      "Non-trainable params: 0\n",
      "_________________________________________________________________\n",
      "None\n"
     ]
    }
   ],
   "source": [
    "##    LSTM MODEL\n",
    "\n",
    "model = Sequential()\n",
    "model.add(Embedding(NB_WORDS, EMBEDDING_DIM, weights = [embedding_matrix], input_length=X.shape[1]))\n",
    "model.add(SpatialDropout1D(0.5))\n",
    "model.add(LSTM(100, dropout=0.3, recurrent_dropout=0.2))\n",
    "model.add(Dense(50, activation='relu', kernel_regularizer=regularizers.l2(0.02)))\n",
    "model.add(Dense(2, activation='softmax'))\n",
    "#adam = optimizers.Adam(lr=0.00008, beta_1=0.9, beta_2=0.999, epsilon=1e-08, decay=0.0)\n",
    "model.compile(loss='binary_crossentropy', optimizer='adam', metrics=['accuracy'])\n",
    "\n",
    "print(model.summary())\n"
   ]
  },
  {
   "cell_type": "code",
   "execution_count": 31,
   "metadata": {},
   "outputs": [
    {
     "name": "stdout",
     "output_type": "stream",
     "text": [
      "Train on 164 samples, validate on 42 samples\n",
      "Epoch 1/50\n",
      "164/164 [==============================] - 3s 19ms/sample - loss: 1.9485 - accuracy: 0.5976 - val_loss: 1.8304 - val_accuracy: 0.7143\n",
      "Epoch 2/50\n",
      "164/164 [==============================] - 1s 6ms/sample - loss: 1.8388 - accuracy: 0.6220 - val_loss: 1.7413 - val_accuracy: 0.7143\n",
      "Epoch 3/50\n",
      "164/164 [==============================] - 1s 6ms/sample - loss: 1.7400 - accuracy: 0.6037 - val_loss: 1.6417 - val_accuracy: 0.7143\n",
      "Epoch 4/50\n",
      "164/164 [==============================] - 1s 6ms/sample - loss: 1.6405 - accuracy: 0.6037 - val_loss: 1.5484 - val_accuracy: 0.7143\n",
      "Epoch 5/50\n",
      "164/164 [==============================] - 1s 7ms/sample - loss: 1.5474 - accuracy: 0.6280 - val_loss: 1.4610 - val_accuracy: 0.7143\n",
      "Epoch 6/50\n",
      "164/164 [==============================] - 1s 7ms/sample - loss: 1.4621 - accuracy: 0.6707 - val_loss: 1.3856 - val_accuracy: 0.9762\n",
      "Epoch 7/50\n",
      "164/164 [==============================] - 1s 7ms/sample - loss: 1.3762 - accuracy: 0.7134 - val_loss: 1.2570 - val_accuracy: 0.7381\n",
      "Epoch 8/50\n",
      "164/164 [==============================] - 1s 7ms/sample - loss: 1.2947 - accuracy: 0.6829 - val_loss: 1.1505 - val_accuracy: 0.7143\n",
      "Epoch 9/50\n",
      "164/164 [==============================] - 1s 7ms/sample - loss: 1.1873 - accuracy: 0.6829 - val_loss: 1.0559 - val_accuracy: 0.7857\n",
      "Epoch 10/50\n",
      "164/164 [==============================] - 1s 8ms/sample - loss: 1.0698 - accuracy: 0.7988 - val_loss: 0.9335 - val_accuracy: 0.9286\n",
      "Epoch 11/50\n",
      "164/164 [==============================] - 1s 7ms/sample - loss: 0.9439 - accuracy: 0.9207 - val_loss: 0.7913 - val_accuracy: 0.9524\n",
      "Epoch 12/50\n",
      "164/164 [==============================] - 1s 9ms/sample - loss: 0.8095 - accuracy: 0.9573 - val_loss: 0.6726 - val_accuracy: 0.9524\n",
      "Epoch 13/50\n",
      "164/164 [==============================] - 1s 7ms/sample - loss: 0.6688 - accuracy: 0.9512 - val_loss: 0.5671 - val_accuracy: 0.9524\n",
      "Epoch 14/50\n",
      "164/164 [==============================] - 1s 7ms/sample - loss: 0.5538 - accuracy: 0.9634 - val_loss: 0.5181 - val_accuracy: 0.9762\n",
      "Epoch 15/50\n",
      "164/164 [==============================] - 1s 6ms/sample - loss: 0.5293 - accuracy: 0.9573 - val_loss: 0.4698 - val_accuracy: 0.9762\n",
      "Epoch 16/50\n",
      "164/164 [==============================] - 1s 7ms/sample - loss: 0.4549 - accuracy: 0.9695 - val_loss: 0.4279 - val_accuracy: 0.9762\n",
      "Epoch 17/50\n",
      "164/164 [==============================] - 1s 7ms/sample - loss: 0.4050 - accuracy: 0.9939 - val_loss: 0.3884 - val_accuracy: 0.9524\n",
      "Epoch 18/50\n",
      "164/164 [==============================] - 1s 7ms/sample - loss: 0.3635 - accuracy: 0.9939 - val_loss: 0.3777 - val_accuracy: 0.9762\n",
      "Epoch 19/50\n",
      "164/164 [==============================] - 1s 7ms/sample - loss: 0.3464 - accuracy: 0.9939 - val_loss: 0.3409 - val_accuracy: 0.9762\n",
      "Epoch 20/50\n",
      "164/164 [==============================] - 1s 6ms/sample - loss: 0.3190 - accuracy: 0.9878 - val_loss: 0.3110 - val_accuracy: 0.9762\n",
      "Epoch 21/50\n",
      "164/164 [==============================] - 1s 7ms/sample - loss: 0.2879 - accuracy: 0.9878 - val_loss: 0.2884 - val_accuracy: 0.9762\n",
      "Epoch 22/50\n",
      "164/164 [==============================] - 1s 7ms/sample - loss: 0.2626 - accuracy: 0.9939 - val_loss: 0.2673 - val_accuracy: 0.9762\n",
      "Epoch 23/50\n",
      "164/164 [==============================] - 1s 6ms/sample - loss: 0.2398 - accuracy: 0.9939 - val_loss: 0.2543 - val_accuracy: 0.9762\n",
      "Epoch 24/50\n",
      "164/164 [==============================] - 1s 6ms/sample - loss: 0.2267 - accuracy: 0.9939 - val_loss: 0.2522 - val_accuracy: 0.9762\n",
      "Epoch 25/50\n",
      "164/164 [==============================] - 1s 6ms/sample - loss: 0.2014 - accuracy: 0.9939 - val_loss: 0.2080 - val_accuracy: 0.9762\n",
      "Epoch 26/50\n",
      "164/164 [==============================] - 1s 6ms/sample - loss: 0.2010 - accuracy: 0.9817 - val_loss: 0.1922 - val_accuracy: 0.9762\n",
      "Epoch 27/50\n",
      "164/164 [==============================] - 1s 7ms/sample - loss: 0.1727 - accuracy: 0.9939 - val_loss: 0.1787 - val_accuracy: 1.0000\n",
      "Epoch 28/50\n",
      "164/164 [==============================] - 1s 7ms/sample - loss: 0.1631 - accuracy: 0.9939 - val_loss: 0.1664 - val_accuracy: 1.0000\n",
      "Epoch 29/50\n",
      "164/164 [==============================] - 1s 8ms/sample - loss: 0.1467 - accuracy: 0.9939 - val_loss: 0.1518 - val_accuracy: 1.0000\n",
      "Epoch 30/50\n",
      "164/164 [==============================] - 1s 7ms/sample - loss: 0.1302 - accuracy: 1.0000 - val_loss: 0.1397 - val_accuracy: 1.0000\n",
      "Epoch 31/50\n",
      "164/164 [==============================] - 1s 6ms/sample - loss: 0.1291 - accuracy: 0.9939 - val_loss: 0.1292 - val_accuracy: 1.0000\n",
      "Epoch 32/50\n",
      "164/164 [==============================] - 1s 6ms/sample - loss: 0.1125 - accuracy: 0.9939 - val_loss: 0.1230 - val_accuracy: 1.0000\n",
      "Epoch 33/50\n",
      "164/164 [==============================] - 1s 6ms/sample - loss: 0.1115 - accuracy: 0.9939 - val_loss: 0.1137 - val_accuracy: 1.0000\n",
      "Epoch 34/50\n",
      "164/164 [==============================] - 1s 6ms/sample - loss: 0.0998 - accuracy: 0.9939 - val_loss: 0.1063 - val_accuracy: 1.0000\n",
      "Epoch 35/50\n",
      "164/164 [==============================] - 1s 6ms/sample - loss: 0.0920 - accuracy: 0.9939 - val_loss: 0.0998 - val_accuracy: 0.9762\n",
      "Epoch 36/50\n",
      "164/164 [==============================] - 1s 6ms/sample - loss: 0.0903 - accuracy: 0.9878 - val_loss: 0.0925 - val_accuracy: 1.0000\n",
      "Epoch 37/50\n",
      "164/164 [==============================] - 1s 6ms/sample - loss: 0.0831 - accuracy: 0.9939 - val_loss: 0.0871 - val_accuracy: 1.0000\n",
      "Epoch 38/50\n",
      "164/164 [==============================] - 1s 6ms/sample - loss: 0.0761 - accuracy: 0.9939 - val_loss: 0.0813 - val_accuracy: 1.0000\n",
      "Epoch 39/50\n",
      "164/164 [==============================] - 1s 6ms/sample - loss: 0.0711 - accuracy: 0.9939 - val_loss: 0.0766 - val_accuracy: 1.0000\n",
      "Epoch 40/50\n",
      "164/164 [==============================] - 1s 6ms/sample - loss: 0.0647 - accuracy: 0.9939 - val_loss: 0.0712 - val_accuracy: 1.0000\n",
      "Epoch 41/50\n",
      "164/164 [==============================] - 1s 8ms/sample - loss: 0.0601 - accuracy: 0.9939 - val_loss: 0.0707 - val_accuracy: 0.9762\n",
      "Epoch 42/50\n",
      "164/164 [==============================] - 1s 8ms/sample - loss: 0.0567 - accuracy: 1.0000 - val_loss: 0.0635 - val_accuracy: 1.0000\n",
      "Epoch 43/50\n",
      "164/164 [==============================] - 1s 7ms/sample - loss: 0.0513 - accuracy: 1.0000 - val_loss: 0.0596 - val_accuracy: 1.0000\n",
      "Epoch 44/50\n",
      "164/164 [==============================] - 1s 7ms/sample - loss: 0.0483 - accuracy: 1.0000 - val_loss: 0.0555 - val_accuracy: 1.0000\n",
      "Epoch 45/50\n",
      "164/164 [==============================] - 1s 7ms/sample - loss: 0.0462 - accuracy: 1.0000 - val_loss: 0.0527 - val_accuracy: 1.0000\n",
      "Epoch 46/50\n",
      "164/164 [==============================] - 1s 7ms/sample - loss: 0.0442 - accuracy: 0.9939 - val_loss: 0.0502 - val_accuracy: 1.0000\n",
      "Epoch 47/50\n",
      "164/164 [==============================] - 1s 7ms/sample - loss: 0.0394 - accuracy: 1.0000 - val_loss: 0.0479 - val_accuracy: 1.0000\n",
      "Epoch 48/50\n",
      "164/164 [==============================] - 1s 6ms/sample - loss: 0.0406 - accuracy: 1.0000 - val_loss: 0.0456 - val_accuracy: 1.0000\n",
      "Epoch 49/50\n",
      "164/164 [==============================] - 1s 6ms/sample - loss: 0.0345 - accuracy: 1.0000 - val_loss: 0.0430 - val_accuracy: 1.0000\n",
      "Epoch 50/50\n",
      "164/164 [==============================] - 1s 7ms/sample - loss: 0.0354 - accuracy: 1.0000 - val_loss: 0.0407 - val_accuracy: 1.0000\n"
     ]
    }
   ],
   "source": [
    "epochs = 50\n",
    "batch_size = 32\n",
    "filename = 'Fasttext_model.h5'\n",
    "checkpoint = ModelCheckpoint(filename, monitor='val_loss', save_best_only=True, mode='min')\n",
    "history = model.fit(X_train, Y_train, epochs=epochs, batch_size=batch_size, validation_data = (X_test, Y_test), callbacks = [checkpoint])"
   ]
  },
  {
   "cell_type": "code",
   "execution_count": 32,
   "metadata": {},
   "outputs": [
    {
     "name": "stdout",
     "output_type": "stream",
     "text": [
      "42/42 [==============================] - 0s 7ms/sample - loss: 0.0407 - accuracy: 1.0000\n",
      "Test set\n",
      "  Loss: 0.041\n",
      "  Accuracy: 1.000\n"
     ]
    }
   ],
   "source": [
    "model = load_model(\"Fasttext_model.h5\")\n",
    "acc = model.evaluate(X_test,Y_test)\n",
    "\n",
    "print('Test set\\n  Loss: {:0.3f}\\n  Accuracy: {:0.3f}'.format(acc[0],acc[1]))"
   ]
  },
  {
   "cell_type": "code",
   "execution_count": 33,
   "metadata": {
    "scrolled": true
   },
   "outputs": [
    {
     "data": {
      "image/png": "[encoded data removed]",
      "text/plain": [
       "<Figure size 720x360 with 2 Axes>"
      ]
     },
     "metadata": {
      "needs_background": "light"
     },
     "output_type": "display_data"
    }
   ],
   "source": [
    "plot(history)"
   ]
  },
  {
   "cell_type": "code",
   "execution_count": 41,
   "metadata": {},
   "outputs": [],
   "source": [
    "fasttext_model =  load_model(\"Fasttext_model.h5\")"
   ]
  },
  {
   "cell_type": "code",
   "execution_count": 42,
   "metadata": {},
   "outputs": [
    {
     "name": "stdout",
     "output_type": "stream",
     "text": [
      "FindConnection  = 0.32001847\n",
      "DepartureTime  = 0.6799815\n"
     ]
    }
   ],
   "source": [
    "text = \"When does the next bus leaves at garching forschungszentrum\"\n",
    "predictions = pred(fasttext_model,text,intents)\n"
   ]
  },
  {
   "cell_type": "code",
   "execution_count": null,
   "metadata": {},
   "outputs": [],
   "source": []
  }
 ],
 "metadata": {
  "kernelspec": {
   "display_name": "Python 3",
   "language": "python",
   "name": "python3"
  },
  "language_info": {
   "codemirror_mode": {
    "name": "ipython",
    "version": 3
   },
   "file_extension": ".py",
   "mimetype": "text/x-python",
   "name": "python",
   "nbconvert_exporter": "python",
   "pygments_lexer": "ipython3",
   "version": "3.7.9"
  }
 },
 "nbformat": 4,
 "nbformat_minor": 4
}
