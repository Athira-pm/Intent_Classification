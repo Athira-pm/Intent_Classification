{
 "cells": [
  {
   "cell_type": "markdown",
   "metadata": {},
   "source": [
    "# Intent Classification - Chatbot - DL"
   ]
  },
  {
   "cell_type": "code",
   "execution_count": 192,
   "metadata": {},
   "outputs": [],
   "source": [
    "from nltk import word_tokenize\n",
    "import pandas as pd \n",
    "import numpy as np\n",
    "import spacy\n",
    "import re\n",
    "from pandas import DataFrame\n",
    "import seaborn as sns\n",
    "import matplotlib.pyplot as plt\n",
    "import json\n",
    "from sklearn.model_selection import train_test_split"
   ]
  },
  {
   "cell_type": "code",
   "execution_count": 193,
   "metadata": {},
   "outputs": [],
   "source": [
    "from keras.preprocessing.text import Tokenizer\n",
    "from keras.preprocessing.sequence import pad_sequences\n",
    "\n",
    "from tensorflow.keras.models import Sequential, load_model, Model\n",
    "from tensorflow.keras.layers import Dense, Activation, Dropout, Embedding, LSTM, Bidirectional, SpatialDropout1D\n",
    "from tensorflow.keras import regularizers, optimizers\n",
    "from tensorflow.keras.callbacks import EarlyStopping\n",
    "from keras.callbacks import ModelCheckpoint\n",
    "from tensorflow.keras.layers import Flatten, Conv1D, GlobalMaxPooling1D, MaxPooling1D, concatenate, Input\n"
   ]
  },
  {
   "cell_type": "code",
   "execution_count": 3,
   "metadata": {},
   "outputs": [],
   "source": [
    "with open(\"ChatbotCorpus.json\", 'r', encoding='utf-8') as f:\n",
    "    data = json.load(f)\n",
    "    intent_data = [[dat[\"text\"], dat[\"intent\"]] for dat in data[\"sentences\"]]"
   ]
  },
  {
   "cell_type": "code",
   "execution_count": 4,
   "metadata": {},
   "outputs": [
    {
     "data": {
      "text/plain": [
       "[['i want to go marienplatz', 'FindConnection'],\n",
       " ['when is the next train in muncher freiheit?', 'DepartureTime'],\n",
       " ['when does the next u-bahn leaves from garching forschungszentrum?',\n",
       "  'DepartureTime'],\n",
       " ['from olympia einkaufszentrum to hauptbahnhof', 'FindConnection'],\n",
       " ['when is the next train from winterstraße 12 to kieferngarten',\n",
       "  'FindConnection'],\n",
       " ['when is the next rocket from winterstraße 12 to kieferngarte',\n",
       "  'FindConnection'],\n",
       " ['can you find a connection from garching to hauptbahnhof?',\n",
       "  'FindConnection'],\n",
       " ['how to get from untere strassäcker 21 to fröttmaning', 'FindConnection'],\n",
       " ['how i can get from marienplatz to garching', 'FindConnection'],\n",
       " ['connection from boltzmannstraße to kieferngarten', 'FindConnection'],\n",
       " ['how to get from bonner platz to freimann?', 'FindConnection'],\n",
       " ['when is the next s-bahn leaving at garching?', 'DepartureTime'],\n",
       " ['how do i get from oez to hbf?', 'FindConnection'],\n",
       " ['how to get from winterstrasse 12 to fröttmaning', 'FindConnection'],\n",
       " ['how do i get from garching forschungszentrum to pasing', 'FindConnection'],\n",
       " ['theresienstraße to assling', 'FindConnection'],\n",
       " ['how can i get from theresienstraße to munich east?', 'FindConnection'],\n",
       " ['when does the next bus starts from garching?', 'DepartureTime'],\n",
       " ['from quiddestraße to garching?', 'FindConnection'],\n",
       " ['can you find a connection from kurt-eisner-straße to garching forschungszentrum?',\n",
       "  'FindConnection'],\n",
       " ['can you find a connection from quiddestraße to garching forschungszentrum?',\n",
       "  'FindConnection'],\n",
       " ['when does the next train leaves at garching?', 'DepartureTime'],\n",
       " ['from hauptbahnhof to garching?', 'FindConnection'],\n",
       " ['how can i get to glockenbachviertel from garching forschungszentrum?',\n",
       "  'FindConnection'],\n",
       " ['how i can get from garching to nordfriedhof', 'FindConnection'],\n",
       " ['how can i get to glockenbachviertel from garching forschungszentrum?',\n",
       "  'FindConnection'],\n",
       " ['when is the next train leaving in garching forschungszentrum',\n",
       "  'DepartureTime'],\n",
       " ['how can i get from moosach to quiddestraße?', 'FindConnection'],\n",
       " ['how can i get from moosach to poccistraße?', 'FindConnection'],\n",
       " ['how can i get from kurt-eisner-straße to garching forschungszentrum?',\n",
       "  'FindConnection'],\n",
       " ['how can i get from moosach to quiddestraße?', 'FindConnection'],\n",
       " ['how can i get from moosach to odeonsplatz?', 'FindConnection'],\n",
       " ['when does the next bus starts at garching?', 'DepartureTime'],\n",
       " [\"what's the shortest way from quiddestraße to odeonsplatz?\",\n",
       "  'FindConnection'],\n",
       " ['when is the next bus from ostbahnhof', 'DepartureTime'],\n",
       " ['how i can get from garching to neuperlach sued', 'FindConnection'],\n",
       " ['when is the next train in munchner freiheit?', 'DepartureTime'],\n",
       " ['how i can get from marienplatz to garching?', 'FindConnection'],\n",
       " ['how do i get from poccistraße to laim', 'FindConnection'],\n",
       " ['i want to go garching from marienplatz', 'FindConnection'],\n",
       " ['how i can get from marienplatz to garching?', 'FindConnection'],\n",
       " ['how can i get from hauptbahnhof to odeonsplatz', 'FindConnection'],\n",
       " ['prinzregentenplatz to rotkreuzplatz', 'FindConnection'],\n",
       " ['i want to go to garching from marienplatz', 'FindConnection'],\n",
       " ['next train from garching', 'DepartureTime'],\n",
       " ['from prinzregentenplatz to rotkreuzplatz', 'FindConnection'],\n",
       " ['when is the next subway from garching forschungszentrum', 'DepartureTime'],\n",
       " ['from garching to klinikum', 'FindConnection'],\n",
       " ['from garching foschungszentrum to odeonsplatz', 'FindConnection'],\n",
       " ['next bus in garching', 'DepartureTime'],\n",
       " ['when does the train leaving in garching forschungszentrum',\n",
       "  'DepartureTime'],\n",
       " ['next subway from garching forschungszentrum', 'DepartureTime'],\n",
       " ['tell me the next bus from garching', 'DepartureTime'],\n",
       " ['next bus from garching, please.', 'DepartureTime'],\n",
       " ['next bus from garching', 'DepartureTime'],\n",
       " ['next bus from central station', 'DepartureTime'],\n",
       " ['from garching to marienplatz', 'FindConnection'],\n",
       " ['next bus from garching.', 'DepartureTime'],\n",
       " ['connection from garching to hauptbahnhof?', 'FindConnection'],\n",
       " ['when does the next bus departs from garching?', 'DepartureTime'],\n",
       " ['find connection from hauptbahnhof to odeonsplatz', 'FindConnection'],\n",
       " ['when does the next u-bahn departs at garching forschungszentrum?',\n",
       "  'DepartureTime'],\n",
       " ['when does the next u-bahn departs at garching?', 'DepartureTime'],\n",
       " ['when does the next subway departs at garching', 'DepartureTime'],\n",
       " ['when is the next train in garching?', 'DepartureTime'],\n",
       " ['how to get from münchner freiheit to garching ?', 'FindConnection'],\n",
       " ['implerstraße to ostbahnhof', 'FindConnection'],\n",
       " ['how can i get from hauptbahnhof to odeonsplatz?', 'FindConnection'],\n",
       " ['how can i go from garching forschungszentrum to prinzregentenplatz',\n",
       "  'FindConnection'],\n",
       " ['how can i get from mangfallplatz to garching', 'FindConnection'],\n",
       " ['how can i get to hohenlindenerstraße', 'FindConnection'],\n",
       " ['harthaus to hackerbrücke', 'FindConnection'],\n",
       " ['how can i get from feldmoching to garching forschungszentrum?',\n",
       "  'FindConnection'],\n",
       " ['from marienplatz to petershausen', 'FindConnection'],\n",
       " ['when is the train from garching to marienplatz', 'FindConnection'],\n",
       " ['neufahrn to garching', 'FindConnection'],\n",
       " ['how can i get from mangfallplatz to garching', 'FindConnection'],\n",
       " ['how can i get to hohenlindenerstr', 'FindConnection'],\n",
       " ['when is the next bus from garching forschungzentrum', 'DepartureTime'],\n",
       " ['how do i get from spitzingplatz to poccistraße?', 'FindConnection'],\n",
       " ['how can i get from garching forschungszentrum to marienplatz',\n",
       "  'FindConnection'],\n",
       " ['how can i get from klinkum to marienplatz?', 'FindConnection'],\n",
       " ['how to get from alte heide to marienplatz', 'FindConnection'],\n",
       " ['next train from muenchen freicheit', 'DepartureTime'],\n",
       " ['depart in garching, i assume', 'DepartureTime'],\n",
       " ['when does the next u-bahn depart at garching?', 'DepartureTime'],\n",
       " ['the next bus from garching forschungzentrum', 'DepartureTime'],\n",
       " ['when is the next train in alte heide?', 'DepartureTime'],\n",
       " ['or depart from garching', 'DepartureTime'],\n",
       " ['hello munich city bot! how do i get from münchner freiheit to scheidplatz?',\n",
       "  'FindConnection'],\n",
       " ['how can i get from garching forschungszentrum to prinzregentenplatz',\n",
       "  'FindConnection'],\n",
       " ['how can i get from neufahrn to garching', 'FindConnection'],\n",
       " ['take me to the airport', 'FindConnection'],\n",
       " ['when does the next u6 leave from garching forschungszentrum',\n",
       "  'DepartureTime'],\n",
       " ['how i can get from munchner freiheit to nordfriedhof?', 'FindConnection'],\n",
       " ['from harthaus to hackerbrücke', 'FindConnection'],\n",
       " ['when is the train from garching', 'DepartureTime'],\n",
       " ['what is the next train from münchner freiheit', 'DepartureTime'],\n",
       " ['how can i get from theresienstrasse to garching forschungszentrum',\n",
       "  'FindConnection'],\n",
       " ['how can i get from münchner freiheit to odeonsplatz', 'FindConnection'],\n",
       " ['from garching to hauptbahnhof', 'FindConnection'],\n",
       " ['how can i get from garching to odeonsplatz', 'FindConnection'],\n",
       " ['start: neufahrn end:garching', 'FindConnection'],\n",
       " ['how can i get from studentenstadt to garching', 'FindConnection'],\n",
       " ['when is the next bus from garching', 'DepartureTime'],\n",
       " ['take me from hauptbahnhof to odeonsplatz', 'FindConnection'],\n",
       " [\"what's the shortest connection between quiddestraße and odeonsplatz?\",\n",
       "  'FindConnection'],\n",
       " ['what is the cheapest connection between quiddestraße and hauptbahnhof?',\n",
       "  'FindConnection'],\n",
       " [\"what's the shortest way between hauptbahnhof and odeonsplatz?\",\n",
       "  'FindConnection'],\n",
       " ['how can i get from garching to münchner freiheit as fast as possible?',\n",
       "  'FindConnection'],\n",
       " [\"what's the cheapest way from neuperlach süd to lehel?\", 'FindConnection'],\n",
       " ['how can i get from neuperlach zentrum to karlsplatz as fast as possible?',\n",
       "  'FindConnection'],\n",
       " ['could you give me the fastest connection between brudermühlstraße and alte heide?',\n",
       "  'FindConnection'],\n",
       " ['is there a train from neuperlach zentrum to garching at 3 pm?',\n",
       "  'FindConnection'],\n",
       " ['can you find a connection from olympiazentrum to lehel at 2 pm?',\n",
       "  'FindConnection'],\n",
       " ['i need a connection from harras to karl-preis-platz at 8 am.',\n",
       "  'FindConnection'],\n",
       " ['in need to be at hauptbahnhof at 1 pm, can you search a connection from garching forschungszentrum?',\n",
       "  'FindConnection'],\n",
       " ['i need to be in garching at 9', 'FindConnection'],\n",
       " ['can i take a bus from quiddestraße to hauptbahnhof?', 'FindConnection'],\n",
       " ['can you find the shortest way from moosfeld to milbertshofen?',\n",
       "  'FindConnection'],\n",
       " ['how can i get to neuperlach süd from garching forschungszentrum?',\n",
       "  'FindConnection'],\n",
       " ['can you find a bus from quiddestraße to lehel?', 'FindConnection'],\n",
       " ['is there a tram from karlsplatz to lehel?', 'FindConnection'],\n",
       " ['is there a bus from garching to moosach at around 5?', 'FindConnection'],\n",
       " ['is there a bus from odeonsplatz to hauptbahnhof at 3 pm?',\n",
       "  'FindConnection'],\n",
       " ['can you tell me the cheapest way from garching forschungszentrum to quiddestraße?',\n",
       "  'FindConnection'],\n",
       " ['how can i get to quiddestraße?', 'FindConnection'],\n",
       " ['when does the next bus leaves from hauptbahnhof?', 'DepartureTime'],\n",
       " ['how can i get from garching to hauptbahnhof?', 'FindConnection'],\n",
       " ['how can i get from kurt-eisner-straße to garching?', 'FindConnection'],\n",
       " ['when the next train in garching,forschungszentrum is leaving?',\n",
       "  'DepartureTime'],\n",
       " ['what is the next connection from garching forschungszentrum to odeonsplatz?',\n",
       "  'FindConnection'],\n",
       " ['how can i get from mossach to garching forschungszentrum?',\n",
       "  'FindConnection'],\n",
       " ['how can i get from garching forschungszentrum to odeonsplatz?',\n",
       "  'FindConnection'],\n",
       " ['how can i get from garching, forschungszentrum to odeonsplatz?',\n",
       "  'FindConnection'],\n",
       " ['how can i get from garching forschungszentrum to kurt-eisner-straße?',\n",
       "  'FindConnection'],\n",
       " ['how can i get to boltzmannstraße from quiddestraße?', 'FindConnection'],\n",
       " ['when does the next train departs from quiddestraße?', 'DepartureTime'],\n",
       " ['when the next train in garching forschungszentrum is leaving?',\n",
       "  'DepartureTime'],\n",
       " ['when is the next u6 leaving from garching?', 'DepartureTime'],\n",
       " ['when does the next train leave from garching forschungszentrum',\n",
       "  'DepartureTime'],\n",
       " ['when is the next u6?', 'DepartureTime'],\n",
       " ['when is the next subway leaving from garching?', 'DepartureTime'],\n",
       " ['when the next train in garching is leaving?', 'DepartureTime'],\n",
       " ['when is the next train leaving in garching', 'DepartureTime'],\n",
       " ['when does the next train leaves from odeonsplatz?', 'DepartureTime'],\n",
       " ['when does the next train leaves from quiddestraße?', 'DepartureTime'],\n",
       " ['when is the next train', 'DepartureTime'],\n",
       " ['when does the next bus leaves at garching forschungszentrum?',\n",
       "  'DepartureTime'],\n",
       " ['when does the next train leaves?', 'DepartureTime'],\n",
       " ['when does the next bus leave in garching?', 'DepartureTime'],\n",
       " ['when does the next s-bahn leaves from hauptbahnhof?', 'DepartureTime'],\n",
       " ['when does the next subway departes from odeonsplatz?', 'DepartureTime'],\n",
       " ['show me the next bus from garching!', 'DepartureTime'],\n",
       " ['when does the next tram starts from hauptbahnhof?', 'DepartureTime'],\n",
       " ['when will the next u-bahn depart from garching forschungszentrum?',\n",
       "  'DepartureTime'],\n",
       " ['show me the next bus from michaelibad.', 'DepartureTime'],\n",
       " ['when does the next train starts at sendlinger tor?', 'DepartureTime'],\n",
       " ['hey bot, when does the next bus starts at garching?', 'DepartureTime'],\n",
       " ['when does the next bus leaves at garching?', 'DepartureTime'],\n",
       " ['when is the bus from quiddestraße?', 'DepartureTime'],\n",
       " ['when can i get a bus at mariahilfplatz?', 'DepartureTime'],\n",
       " ['when does the next bus leaves at romanplatz?', 'DepartureTime'],\n",
       " ['when does the bus to röblingweg starts?', 'DepartureTime'],\n",
       " ['next bus from quiddestraße?', 'DepartureTime'],\n",
       " ['when is the next bus leaving from garching?', 'DepartureTime'],\n",
       " ['when is the train leaving in garching', 'DepartureTime'],\n",
       " ['when is the train leaving in garching?', 'DepartureTime'],\n",
       " ['how can i get from garching to odeonsplatz?', 'FindConnection'],\n",
       " ['when is adrians next subway leaving at garching forschungszentrum?',\n",
       "  'DepartureTime'],\n",
       " ['how can i get from olympiazentrum to hauptbahnhof?', 'FindConnection'],\n",
       " ['how can i get from quiddestraße to boltzmannstraße?', 'FindConnection'],\n",
       " ['how can i get from moosach to garching forschungszentrum?',\n",
       "  'FindConnection'],\n",
       " ['can you give me a connection from garching to odeonsplatz?',\n",
       "  'FindConnection'],\n",
       " ['when is the next train from garching', 'DepartureTime'],\n",
       " ['when comes the next train', 'DepartureTime'],\n",
       " ['when is the next train in nordfriedhof', 'DepartureTime'],\n",
       " ['when does the next train come at garching forschungszentrum',\n",
       "  'DepartureTime'],\n",
       " ['when is the next train from nordfriedhof to garching forschungszentrum',\n",
       "  'FindConnection'],\n",
       " ['i want to travel from garching to odeonsplatz?', 'FindConnection'],\n",
       " ['how can i get to sendlinger tor?', 'FindConnection'],\n",
       " ['how do i get to untere straussäcker?', 'FindConnection'],\n",
       " ['how can i get from garching to garching?', 'FindConnection'],\n",
       " ['how can i get from garching to sendlinger tor?', 'FindConnection'],\n",
       " ['how can i get from garchingto garching?', 'FindConnection'],\n",
       " ['when is the next train from garching', 'DepartureTime'],\n",
       " ['how do i get from marienplatz zu garching', 'FindConnection'],\n",
       " ['how can i get to milbertshofen from garching?', 'FindConnection'],\n",
       " ['when is the next train to garching', 'FindConnection'],\n",
       " ['how can i get from garching to milbertshofen?', 'FindConnection'],\n",
       " ['when does the next rocket leaves from garching forschungszentrum?',\n",
       "  'DepartureTime'],\n",
       " ['connection from untere straßäcker 21 to kieferngarten', 'FindConnection'],\n",
       " ['how to get from untere strassäcker 21 to frötmaning', 'FindConnection'],\n",
       " ['how to get from untere strassaecker 21 to frötmaning', 'FindConnection'],\n",
       " ['when is the next train from untere straßaecker 21 to kieferngarten',\n",
       "  'FindConnection'],\n",
       " ['when is the next train from untere straßaecker 21, garching to kieferngarten',\n",
       "  'FindConnection'],\n",
       " ['from garching to perlach', 'FindConnection'],\n",
       " ['how to get from garching to perlach?', 'FindConnection'],\n",
       " ['how to get from bonnerplatz to freimann', 'FindConnection'],\n",
       " ['when is the next train in nordfriedhof?', 'DepartureTime'],\n",
       " ['when is the next train in münchner freiheit?', 'DepartureTime'],\n",
       " ['connection from hauptbahnhof to odeonsplatz?', 'FindConnection'],\n",
       " ['how do i get from olympia einkaufszentrum to hauptbahnhof?',\n",
       "  'FindConnection'],\n",
       " ['when is the next bus in garching forschungszentrum', 'DepartureTime'],\n",
       " ['how can i get from garching to marienplatz', 'FindConnection'],\n",
       " ['from garching to studentenstadt', 'FindConnection']]"
      ]
     },
     "execution_count": 4,
     "metadata": {},
     "output_type": "execute_result"
    }
   ],
   "source": [
    "intent_data"
   ]
  },
  {
   "cell_type": "code",
   "execution_count": 5,
   "metadata": {},
   "outputs": [
    {
     "data": {
      "text/html": [
       "<div>\n",
       "<style scoped>\n",
       "    .dataframe tbody tr th:only-of-type {\n",
       "        vertical-align: middle;\n",
       "    }\n",
       "\n",
       "    .dataframe tbody tr th {\n",
       "        vertical-align: top;\n",
       "    }\n",
       "\n",
       "    .dataframe thead th {\n",
       "        text-align: right;\n",
       "    }\n",
       "</style>\n",
       "<table border=\"1\" class=\"dataframe\">\n",
       "  <thead>\n",
       "    <tr style=\"text-align: right;\">\n",
       "      <th></th>\n",
       "      <th>Chat</th>\n",
       "      <th>Intent</th>\n",
       "    </tr>\n",
       "  </thead>\n",
       "  <tbody>\n",
       "    <tr>\n",
       "      <th>0</th>\n",
       "      <td>i want to go marienplatz</td>\n",
       "      <td>FindConnection</td>\n",
       "    </tr>\n",
       "    <tr>\n",
       "      <th>1</th>\n",
       "      <td>when is the next train in muncher freiheit?</td>\n",
       "      <td>DepartureTime</td>\n",
       "    </tr>\n",
       "    <tr>\n",
       "      <th>2</th>\n",
       "      <td>when does the next u-bahn leaves from garching...</td>\n",
       "      <td>DepartureTime</td>\n",
       "    </tr>\n",
       "    <tr>\n",
       "      <th>3</th>\n",
       "      <td>from olympia einkaufszentrum to hauptbahnhof</td>\n",
       "      <td>FindConnection</td>\n",
       "    </tr>\n",
       "    <tr>\n",
       "      <th>4</th>\n",
       "      <td>when is the next train from winterstraße 12 to...</td>\n",
       "      <td>FindConnection</td>\n",
       "    </tr>\n",
       "    <tr>\n",
       "      <th>...</th>\n",
       "      <td>...</td>\n",
       "      <td>...</td>\n",
       "    </tr>\n",
       "    <tr>\n",
       "      <th>201</th>\n",
       "      <td>connection from hauptbahnhof to odeonsplatz?</td>\n",
       "      <td>FindConnection</td>\n",
       "    </tr>\n",
       "    <tr>\n",
       "      <th>202</th>\n",
       "      <td>how do i get from olympia einkaufszentrum to h...</td>\n",
       "      <td>FindConnection</td>\n",
       "    </tr>\n",
       "    <tr>\n",
       "      <th>203</th>\n",
       "      <td>when is the next bus in garching forschungszen...</td>\n",
       "      <td>DepartureTime</td>\n",
       "    </tr>\n",
       "    <tr>\n",
       "      <th>204</th>\n",
       "      <td>how can i get from garching to marienplatz</td>\n",
       "      <td>FindConnection</td>\n",
       "    </tr>\n",
       "    <tr>\n",
       "      <th>205</th>\n",
       "      <td>from garching to studentenstadt</td>\n",
       "      <td>FindConnection</td>\n",
       "    </tr>\n",
       "  </tbody>\n",
       "</table>\n",
       "<p>206 rows × 2 columns</p>\n",
       "</div>"
      ],
      "text/plain": [
       "                                                  Chat          Intent\n",
       "0                             i want to go marienplatz  FindConnection\n",
       "1          when is the next train in muncher freiheit?   DepartureTime\n",
       "2    when does the next u-bahn leaves from garching...   DepartureTime\n",
       "3         from olympia einkaufszentrum to hauptbahnhof  FindConnection\n",
       "4    when is the next train from winterstraße 12 to...  FindConnection\n",
       "..                                                 ...             ...\n",
       "201       connection from hauptbahnhof to odeonsplatz?  FindConnection\n",
       "202  how do i get from olympia einkaufszentrum to h...  FindConnection\n",
       "203  when is the next bus in garching forschungszen...   DepartureTime\n",
       "204         how can i get from garching to marienplatz  FindConnection\n",
       "205                    from garching to studentenstadt  FindConnection\n",
       "\n",
       "[206 rows x 2 columns]"
      ]
     },
     "execution_count": 5,
     "metadata": {},
     "output_type": "execute_result"
    }
   ],
   "source": [
    "df = DataFrame (intent_data,columns=['Chat','Intent'])\n",
    "df"
   ]
  },
  {
   "cell_type": "code",
   "execution_count": 6,
   "metadata": {},
   "outputs": [
    {
     "data": {
      "text/html": [
       "<div>\n",
       "<style scoped>\n",
       "    .dataframe tbody tr th:only-of-type {\n",
       "        vertical-align: middle;\n",
       "    }\n",
       "\n",
       "    .dataframe tbody tr th {\n",
       "        vertical-align: top;\n",
       "    }\n",
       "\n",
       "    .dataframe thead th {\n",
       "        text-align: right;\n",
       "    }\n",
       "</style>\n",
       "<table border=\"1\" class=\"dataframe\">\n",
       "  <thead>\n",
       "    <tr style=\"text-align: right;\">\n",
       "      <th></th>\n",
       "      <th>Chat</th>\n",
       "      <th>Intent</th>\n",
       "    </tr>\n",
       "  </thead>\n",
       "  <tbody>\n",
       "    <tr>\n",
       "      <th>0</th>\n",
       "      <td>i want to go marienplatz</td>\n",
       "      <td>FindConnection</td>\n",
       "    </tr>\n",
       "    <tr>\n",
       "      <th>1</th>\n",
       "      <td>when is the next train in muncher freiheit?</td>\n",
       "      <td>DepartureTime</td>\n",
       "    </tr>\n",
       "    <tr>\n",
       "      <th>2</th>\n",
       "      <td>when does the next u-bahn leaves from garching...</td>\n",
       "      <td>DepartureTime</td>\n",
       "    </tr>\n",
       "    <tr>\n",
       "      <th>3</th>\n",
       "      <td>from olympia einkaufszentrum to hauptbahnhof</td>\n",
       "      <td>FindConnection</td>\n",
       "    </tr>\n",
       "    <tr>\n",
       "      <th>4</th>\n",
       "      <td>when is the next train from winterstraße 12 to...</td>\n",
       "      <td>FindConnection</td>\n",
       "    </tr>\n",
       "    <tr>\n",
       "      <th>5</th>\n",
       "      <td>when is the next rocket from winterstraße 12 t...</td>\n",
       "      <td>FindConnection</td>\n",
       "    </tr>\n",
       "    <tr>\n",
       "      <th>6</th>\n",
       "      <td>can you find a connection from garching to hau...</td>\n",
       "      <td>FindConnection</td>\n",
       "    </tr>\n",
       "    <tr>\n",
       "      <th>7</th>\n",
       "      <td>how to get from untere strassäcker 21 to frött...</td>\n",
       "      <td>FindConnection</td>\n",
       "    </tr>\n",
       "    <tr>\n",
       "      <th>8</th>\n",
       "      <td>how i can get from marienplatz to garching</td>\n",
       "      <td>FindConnection</td>\n",
       "    </tr>\n",
       "    <tr>\n",
       "      <th>9</th>\n",
       "      <td>connection from boltzmannstraße to kieferngarten</td>\n",
       "      <td>FindConnection</td>\n",
       "    </tr>\n",
       "    <tr>\n",
       "      <th>10</th>\n",
       "      <td>how to get from bonner platz to freimann?</td>\n",
       "      <td>FindConnection</td>\n",
       "    </tr>\n",
       "    <tr>\n",
       "      <th>11</th>\n",
       "      <td>when is the next s-bahn leaving at garching?</td>\n",
       "      <td>DepartureTime</td>\n",
       "    </tr>\n",
       "    <tr>\n",
       "      <th>12</th>\n",
       "      <td>how do i get from oez to hbf?</td>\n",
       "      <td>FindConnection</td>\n",
       "    </tr>\n",
       "    <tr>\n",
       "      <th>13</th>\n",
       "      <td>how to get from winterstrasse 12 to fröttmaning</td>\n",
       "      <td>FindConnection</td>\n",
       "    </tr>\n",
       "    <tr>\n",
       "      <th>14</th>\n",
       "      <td>how do i get from garching forschungszentrum t...</td>\n",
       "      <td>FindConnection</td>\n",
       "    </tr>\n",
       "    <tr>\n",
       "      <th>15</th>\n",
       "      <td>theresienstraße to assling</td>\n",
       "      <td>FindConnection</td>\n",
       "    </tr>\n",
       "    <tr>\n",
       "      <th>16</th>\n",
       "      <td>how can i get from theresienstraße to munich e...</td>\n",
       "      <td>FindConnection</td>\n",
       "    </tr>\n",
       "    <tr>\n",
       "      <th>17</th>\n",
       "      <td>when does the next bus starts from garching?</td>\n",
       "      <td>DepartureTime</td>\n",
       "    </tr>\n",
       "    <tr>\n",
       "      <th>18</th>\n",
       "      <td>from quiddestraße to garching?</td>\n",
       "      <td>FindConnection</td>\n",
       "    </tr>\n",
       "    <tr>\n",
       "      <th>19</th>\n",
       "      <td>can you find a connection from kurt-eisner-str...</td>\n",
       "      <td>FindConnection</td>\n",
       "    </tr>\n",
       "  </tbody>\n",
       "</table>\n",
       "</div>"
      ],
      "text/plain": [
       "                                                 Chat          Intent\n",
       "0                            i want to go marienplatz  FindConnection\n",
       "1         when is the next train in muncher freiheit?   DepartureTime\n",
       "2   when does the next u-bahn leaves from garching...   DepartureTime\n",
       "3        from olympia einkaufszentrum to hauptbahnhof  FindConnection\n",
       "4   when is the next train from winterstraße 12 to...  FindConnection\n",
       "5   when is the next rocket from winterstraße 12 t...  FindConnection\n",
       "6   can you find a connection from garching to hau...  FindConnection\n",
       "7   how to get from untere strassäcker 21 to frött...  FindConnection\n",
       "8          how i can get from marienplatz to garching  FindConnection\n",
       "9    connection from boltzmannstraße to kieferngarten  FindConnection\n",
       "10          how to get from bonner platz to freimann?  FindConnection\n",
       "11       when is the next s-bahn leaving at garching?   DepartureTime\n",
       "12                      how do i get from oez to hbf?  FindConnection\n",
       "13    how to get from winterstrasse 12 to fröttmaning  FindConnection\n",
       "14  how do i get from garching forschungszentrum t...  FindConnection\n",
       "15                         theresienstraße to assling  FindConnection\n",
       "16  how can i get from theresienstraße to munich e...  FindConnection\n",
       "17       when does the next bus starts from garching?   DepartureTime\n",
       "18                     from quiddestraße to garching?  FindConnection\n",
       "19  can you find a connection from kurt-eisner-str...  FindConnection"
      ]
     },
     "execution_count": 6,
     "metadata": {},
     "output_type": "execute_result"
    }
   ],
   "source": [
    "df.head(20)"
   ]
  },
  {
   "cell_type": "code",
   "execution_count": 7,
   "metadata": {},
   "outputs": [],
   "source": [
    "def clean_text(text):\n",
    "    text = re.sub(r'[^A-Za-z0-9 ]+', '', text)\n",
    "    text = text.lower()\n",
    "    return text"
   ]
  },
  {
   "cell_type": "code",
   "execution_count": 8,
   "metadata": {},
   "outputs": [],
   "source": [
    "df['Chat'] = df['Chat'].apply(clean_text)"
   ]
  },
  {
   "cell_type": "code",
   "execution_count": 9,
   "metadata": {},
   "outputs": [
    {
     "data": {
      "text/html": [
       "<div>\n",
       "<style scoped>\n",
       "    .dataframe tbody tr th:only-of-type {\n",
       "        vertical-align: middle;\n",
       "    }\n",
       "\n",
       "    .dataframe tbody tr th {\n",
       "        vertical-align: top;\n",
       "    }\n",
       "\n",
       "    .dataframe thead th {\n",
       "        text-align: right;\n",
       "    }\n",
       "</style>\n",
       "<table border=\"1\" class=\"dataframe\">\n",
       "  <thead>\n",
       "    <tr style=\"text-align: right;\">\n",
       "      <th></th>\n",
       "      <th>Chat</th>\n",
       "      <th>Intent</th>\n",
       "    </tr>\n",
       "  </thead>\n",
       "  <tbody>\n",
       "    <tr>\n",
       "      <th>0</th>\n",
       "      <td>i want to go marienplatz</td>\n",
       "      <td>FindConnection</td>\n",
       "    </tr>\n",
       "    <tr>\n",
       "      <th>1</th>\n",
       "      <td>when is the next train in muncher freiheit</td>\n",
       "      <td>DepartureTime</td>\n",
       "    </tr>\n",
       "    <tr>\n",
       "      <th>2</th>\n",
       "      <td>when does the next ubahn leaves from garching ...</td>\n",
       "      <td>DepartureTime</td>\n",
       "    </tr>\n",
       "    <tr>\n",
       "      <th>3</th>\n",
       "      <td>from olympia einkaufszentrum to hauptbahnhof</td>\n",
       "      <td>FindConnection</td>\n",
       "    </tr>\n",
       "    <tr>\n",
       "      <th>4</th>\n",
       "      <td>when is the next train from winterstrae 12 to ...</td>\n",
       "      <td>FindConnection</td>\n",
       "    </tr>\n",
       "  </tbody>\n",
       "</table>\n",
       "</div>"
      ],
      "text/plain": [
       "                                                Chat          Intent\n",
       "0                           i want to go marienplatz  FindConnection\n",
       "1         when is the next train in muncher freiheit   DepartureTime\n",
       "2  when does the next ubahn leaves from garching ...   DepartureTime\n",
       "3       from olympia einkaufszentrum to hauptbahnhof  FindConnection\n",
       "4  when is the next train from winterstrae 12 to ...  FindConnection"
      ]
     },
     "execution_count": 9,
     "metadata": {},
     "output_type": "execute_result"
    }
   ],
   "source": [
    "df.head()"
   ]
  },
  {
   "cell_type": "code",
   "execution_count": 10,
   "metadata": {},
   "outputs": [
    {
     "data": {
      "text/plain": [
       "FindConnection    128\n",
       "DepartureTime      78\n",
       "Name: Intent, dtype: int64"
      ]
     },
     "execution_count": 10,
     "metadata": {},
     "output_type": "execute_result"
    }
   ],
   "source": [
    "df['Intent'].value_counts() "
   ]
  },
  {
   "cell_type": "code",
   "execution_count": 11,
   "metadata": {},
   "outputs": [
    {
     "data": {
      "image/png": "[encoded data removed]",
      "text/plain": [
       "<Figure size 432x288 with 1 Axes>"
      ]
     },
     "metadata": {
      "needs_background": "light"
     },
     "output_type": "display_data"
    }
   ],
   "source": [
    "sns.countplot(df['Intent'],label=\"Count\")\n",
    "plt.show()"
   ]
  },
  {
   "cell_type": "code",
   "execution_count": 12,
   "metadata": {},
   "outputs": [
    {
     "data": {
      "text/plain": [
       "array(['FindConnection', 'DepartureTime'], dtype=object)"
      ]
     },
     "execution_count": 12,
     "metadata": {},
     "output_type": "execute_result"
    }
   ],
   "source": [
    "intents = df['Intent'].unique()\n",
    "intents"
   ]
  },
  {
   "cell_type": "code",
   "execution_count": null,
   "metadata": {},
   "outputs": [],
   "source": []
  },
  {
   "cell_type": "code",
   "execution_count": 13,
   "metadata": {},
   "outputs": [
    {
     "name": "stdout",
     "output_type": "stream",
     "text": [
      "Found 174 unique tokens.\n"
     ]
    }
   ],
   "source": [
    "MAX_NB_WORDS = 500\n",
    "MAX_SEQUENCE_LENGTH = 100\n",
    "EMBEDDING_DIM = 100\n",
    "tokenizer = Tokenizer(num_words=MAX_NB_WORDS, filters='!\"#$%&()*+,-./:;<=>?@[\\]^_`{|}~', lower=True)\n",
    "tokenizer.fit_on_texts(df['Chat'].values)\n",
    "word_index = tokenizer.word_index\n",
    "NB_WORDS = len(word_index)+1\n",
    "print('Found %s unique tokens.' % NB_WORDS)"
   ]
  },
  {
   "cell_type": "code",
   "execution_count": 14,
   "metadata": {},
   "outputs": [
    {
     "name": "stdout",
     "output_type": "stream",
     "text": [
      "Shape of data tensor: (206, 100)\n"
     ]
    }
   ],
   "source": [
    "\n",
    "X = tokenizer.texts_to_sequences(df['Chat'].values)\n",
    "X = pad_sequences(X, maxlen=MAX_SEQUENCE_LENGTH)\n",
    "\n",
    "print('Shape of data tensor:', X.shape)"
   ]
  },
  {
   "cell_type": "code",
   "execution_count": 15,
   "metadata": {},
   "outputs": [
    {
     "name": "stdout",
     "output_type": "stream",
     "text": [
      "Shape of label tensor: (206, 2)\n"
     ]
    }
   ],
   "source": [
    "Y = pd.get_dummies(df['Intent']).values\n",
    "\n",
    "print('Shape of label tensor:', Y.shape)\n"
   ]
  },
  {
   "cell_type": "code",
   "execution_count": 22,
   "metadata": {},
   "outputs": [],
   "source": [
    "\n",
    "X_train, X_test, Y_train, Y_test = train_test_split(X, Y, shuffle = True, test_size = 0.2)"
   ]
  },
  {
   "cell_type": "code",
   "execution_count": 24,
   "metadata": {},
   "outputs": [],
   "source": [
    "def plot(history):\n",
    "    acc = history.history['accuracy']\n",
    "    val_acc = history.history['val_accuracy']\n",
    "    loss = history.history['loss']\n",
    "    val_loss = history.history['val_loss']\n",
    "    plt.figure(figsize=(10, 5))\n",
    "    \n",
    "    plt.subplot(1, 2, 1)\n",
    "    plt.plot( acc, 'b', label='Train')\n",
    "    plt.plot( val_acc, 'r', label='Test')\n",
    "    plt.title('Accuracy')\n",
    "    plt.legend()\n",
    "    \n",
    "    plt.subplot(1, 2, 2)\n",
    "    plt.plot( loss, 'b', label='Train')\n",
    "    plt.plot(val_loss, 'r', label='Test')\n",
    "    plt.title('Loss')\n",
    "    plt.legend()\n"
   ]
  },
  {
   "cell_type": "code",
   "execution_count": 25,
   "metadata": {},
   "outputs": [],
   "source": [
    "def pred(model,text,classes):\n",
    "    text = clean_text(text)\n",
    "    tokenizer = Tokenizer(num_words=NB_WORDS, filters='!\"#$%&()*+,-./:;<=>?@[\\]^_`{|}~', lower=True)\n",
    "    tokenizer.fit_on_texts([word_tokenize(text)])\n",
    "    word_index = tokenizer.word_index\n",
    "    # Sequence and padding\n",
    "    P = tokenizer.texts_to_sequences([[text]])\n",
    "    P = pad_sequences(P, maxlen=MAX_SEQUENCE_LENGTH)\n",
    "    # print('Shape of tensor:', P.shape)\n",
    "    # Class Prediction\n",
    "    predict = model.predict(P)\n",
    "    #x = np.argmax(predict, axis=-1)\n",
    "    predict=predict[0]\n",
    "    for i in range(len(predict)):\n",
    "        print(\"%s  = %s\" %(classes[i], (predict[i])))\n",
    "    "
   ]
  },
  {
   "cell_type": "markdown",
   "metadata": {},
   "source": [
    "# CNN Model"
   ]
  },
  {
   "cell_type": "code",
   "execution_count": 184,
   "metadata": {},
   "outputs": [
    {
     "name": "stdout",
     "output_type": "stream",
     "text": [
      "Model: \"sequential_25\"\n",
      "_________________________________________________________________\n",
      "Layer (type)                 Output Shape              Param #   \n",
      "=================================================================\n",
      "embedding_27 (Embedding)     (None, 17, 100)           17400     \n",
      "_________________________________________________________________\n",
      "conv1d_17 (Conv1D)           (None, 17, 32)            12832     \n",
      "_________________________________________________________________\n",
      "global_max_pooling1d_15 (Glo (None, 32)                0         \n",
      "_________________________________________________________________\n",
      "dropout_23 (Dropout)         (None, 32)                0         \n",
      "_________________________________________________________________\n",
      "dense_50 (Dense)             (None, 100)               3300      \n",
      "_________________________________________________________________\n",
      "dense_51 (Dense)             (None, 2)                 202       \n",
      "=================================================================\n",
      "Total params: 33,734\n",
      "Trainable params: 16,334\n",
      "Non-trainable params: 17,400\n",
      "_________________________________________________________________\n"
     ]
    }
   ],
   "source": [
    "model = Sequential()\n",
    "model.add(Embedding(NB_WORDS, EMBEDDING_DIM, input_length=X.shape[1],trainable=False))\n",
    "model.add(Conv1D(filters=32, kernel_size=4, padding='same', activation='relu'))\n",
    "model.add(GlobalMaxPooling1D())\n",
    "model.add(Dropout(0.5))\n",
    "#model.add(LSTM(100))\n",
    "model.add(Dense(100, activation='relu', kernel_regularizer=regularizers.l2(0.03)))\n",
    "model.add(Dense(2, activation='sigmoid'))\n",
    "\n",
    "model.compile(optimizer='RMSprop',\n",
    "              loss='binary_crossentropy',\n",
    "              metrics=['accuracy'])\n",
    "model.summary()"
   ]
  },
  {
   "cell_type": "code",
   "execution_count": 185,
   "metadata": {
    "scrolled": true
   },
   "outputs": [
    {
     "name": "stdout",
     "output_type": "stream",
     "text": [
      "Train on 164 samples, validate on 42 samples\n",
      "Epoch 1/50\n",
      "164/164 [==============================] - 1s 6ms/sample - loss: 2.0239 - accuracy: 0.6220 - val_loss: 1.8807 - val_accuracy: 0.5714\n",
      "Epoch 2/50\n",
      "164/164 [==============================] - 0s 334us/sample - loss: 1.8252 - accuracy: 0.6433 - val_loss: 1.7383 - val_accuracy: 0.5714\n",
      "Epoch 3/50\n",
      "164/164 [==============================] - 0s 322us/sample - loss: 1.6895 - accuracy: 0.6463 - val_loss: 1.6184 - val_accuracy: 0.5714\n",
      "Epoch 4/50\n",
      "164/164 [==============================] - 0s 334us/sample - loss: 1.5745 - accuracy: 0.6524 - val_loss: 1.5123 - val_accuracy: 0.5714\n",
      "Epoch 5/50\n",
      "164/164 [==============================] - 0s 389us/sample - loss: 1.4755 - accuracy: 0.6646 - val_loss: 1.4098 - val_accuracy: 0.6905\n",
      "Epoch 6/50\n",
      "164/164 [==============================] - 0s 298us/sample - loss: 1.3820 - accuracy: 0.7409 - val_loss: 1.3185 - val_accuracy: 0.7024\n",
      "Epoch 7/50\n",
      "164/164 [==============================] - 0s 365us/sample - loss: 1.2926 - accuracy: 0.7256 - val_loss: 1.2308 - val_accuracy: 0.7619\n",
      "Epoch 8/50\n",
      "164/164 [==============================] - 0s 334us/sample - loss: 1.1998 - accuracy: 0.7591 - val_loss: 1.1385 - val_accuracy: 0.8333\n",
      "Epoch 9/50\n",
      "164/164 [==============================] - 0s 304us/sample - loss: 1.1195 - accuracy: 0.8140 - val_loss: 1.0591 - val_accuracy: 0.8333\n",
      "Epoch 10/50\n",
      "164/164 [==============================] - 0s 298us/sample - loss: 1.0421 - accuracy: 0.8232 - val_loss: 0.9716 - val_accuracy: 0.9167\n",
      "Epoch 11/50\n",
      "164/164 [==============================] - 0s 304us/sample - loss: 0.9654 - accuracy: 0.8933 - val_loss: 0.8941 - val_accuracy: 0.9762\n",
      "Epoch 12/50\n",
      "164/164 [==============================] - 0s 274us/sample - loss: 0.8991 - accuracy: 0.9146 - val_loss: 0.8250 - val_accuracy: 0.9405\n",
      "Epoch 13/50\n",
      "164/164 [==============================] - 0s 353us/sample - loss: 0.8348 - accuracy: 0.8811 - val_loss: 0.7554 - val_accuracy: 0.9762\n",
      "Epoch 14/50\n",
      "164/164 [==============================] - 0s 347us/sample - loss: 0.7730 - accuracy: 0.9024 - val_loss: 0.6942 - val_accuracy: 0.9762\n",
      "Epoch 15/50\n",
      "164/164 [==============================] - 0s 310us/sample - loss: 0.7092 - accuracy: 0.9238 - val_loss: 0.6294 - val_accuracy: 1.0000\n",
      "Epoch 16/50\n",
      "164/164 [==============================] - 0s 298us/sample - loss: 0.6733 - accuracy: 0.9116 - val_loss: 0.5786 - val_accuracy: 1.0000\n",
      "Epoch 17/50\n",
      "164/164 [==============================] - 0s 274us/sample - loss: 0.6140 - accuracy: 0.9177 - val_loss: 0.5312 - val_accuracy: 1.0000\n",
      "Epoch 18/50\n",
      "164/164 [==============================] - 0s 298us/sample - loss: 0.5560 - accuracy: 0.9329 - val_loss: 0.4859 - val_accuracy: 1.0000\n",
      "Epoch 19/50\n",
      "164/164 [==============================] - 0s 316us/sample - loss: 0.5292 - accuracy: 0.9299 - val_loss: 0.4460 - val_accuracy: 1.0000\n",
      "Epoch 20/50\n",
      "164/164 [==============================] - 0s 322us/sample - loss: 0.5042 - accuracy: 0.9238 - val_loss: 0.4189 - val_accuracy: 0.9881\n",
      "Epoch 21/50\n",
      "164/164 [==============================] - 0s 286us/sample - loss: 0.4640 - accuracy: 0.9421 - val_loss: 0.3742 - val_accuracy: 1.0000\n",
      "Epoch 22/50\n",
      "164/164 [==============================] - 0s 286us/sample - loss: 0.4407 - accuracy: 0.9360 - val_loss: 0.3490 - val_accuracy: 1.0000\n",
      "Epoch 23/50\n",
      "164/164 [==============================] - 0s 274us/sample - loss: 0.4041 - accuracy: 0.9421 - val_loss: 0.3216 - val_accuracy: 1.0000\n",
      "Epoch 24/50\n",
      "164/164 [==============================] - 0s 274us/sample - loss: 0.3773 - accuracy: 0.9360 - val_loss: 0.3087 - val_accuracy: 1.0000\n",
      "Epoch 25/50\n",
      "164/164 [==============================] - 0s 310us/sample - loss: 0.3572 - accuracy: 0.9512 - val_loss: 0.2765 - val_accuracy: 1.0000\n",
      "Epoch 26/50\n",
      "164/164 [==============================] - 0s 328us/sample - loss: 0.3456 - accuracy: 0.9512 - val_loss: 0.2624 - val_accuracy: 1.0000\n",
      "Epoch 27/50\n",
      "164/164 [==============================] - 0s 274us/sample - loss: 0.3301 - accuracy: 0.9512 - val_loss: 0.2503 - val_accuracy: 1.0000\n",
      "Epoch 28/50\n",
      "164/164 [==============================] - 0s 274us/sample - loss: 0.3034 - accuracy: 0.9482 - val_loss: 0.2359 - val_accuracy: 1.0000\n",
      "Epoch 29/50\n",
      "164/164 [==============================] - 0s 347us/sample - loss: 0.2837 - accuracy: 0.9512 - val_loss: 0.2200 - val_accuracy: 1.0000\n",
      "Epoch 30/50\n",
      "164/164 [==============================] - 0s 353us/sample - loss: 0.2645 - accuracy: 0.9573 - val_loss: 0.2066 - val_accuracy: 1.0000\n",
      "Epoch 31/50\n",
      "164/164 [==============================] - 0s 298us/sample - loss: 0.2479 - accuracy: 0.9543 - val_loss: 0.1927 - val_accuracy: 1.0000\n",
      "Epoch 32/50\n",
      "164/164 [==============================] - 0s 286us/sample - loss: 0.2508 - accuracy: 0.9512 - val_loss: 0.1830 - val_accuracy: 1.0000\n",
      "Epoch 33/50\n",
      "164/164 [==============================] - 0s 274us/sample - loss: 0.2376 - accuracy: 0.9787 - val_loss: 0.1679 - val_accuracy: 1.0000\n",
      "Epoch 34/50\n",
      "164/164 [==============================] - 0s 207us/sample - loss: 0.2281 - accuracy: 0.9451 - val_loss: 0.1705 - val_accuracy: 1.0000\n",
      "Epoch 35/50\n",
      "164/164 [==============================] - 0s 304us/sample - loss: 0.2133 - accuracy: 0.9695 - val_loss: 0.1640 - val_accuracy: 1.0000\n",
      "Epoch 36/50\n",
      "164/164 [==============================] - 0s 310us/sample - loss: 0.2330 - accuracy: 0.9665 - val_loss: 0.1510 - val_accuracy: 1.0000\n",
      "Epoch 37/50\n",
      "164/164 [==============================] - 0s 292us/sample - loss: 0.1885 - accuracy: 0.9848 - val_loss: 0.1468 - val_accuracy: 1.0000\n",
      "Epoch 38/50\n",
      "164/164 [==============================] - 0s 207us/sample - loss: 0.1939 - accuracy: 0.9695 - val_loss: 0.1627 - val_accuracy: 1.0000\n",
      "Epoch 39/50\n",
      "164/164 [==============================] - 0s 298us/sample - loss: 0.1766 - accuracy: 0.9817 - val_loss: 0.1398 - val_accuracy: 1.0000\n",
      "Epoch 40/50\n",
      "164/164 [==============================] - 0s 298us/sample - loss: 0.1864 - accuracy: 0.9756 - val_loss: 0.1339 - val_accuracy: 1.0000\n",
      "Epoch 41/50\n",
      "164/164 [==============================] - 0s 207us/sample - loss: 0.1667 - accuracy: 0.9756 - val_loss: 0.1354 - val_accuracy: 1.0000\n",
      "Epoch 42/50\n",
      "164/164 [==============================] - 0s 298us/sample - loss: 0.1709 - accuracy: 0.9726 - val_loss: 0.1247 - val_accuracy: 1.0000\n",
      "Epoch 43/50\n",
      "164/164 [==============================] - 0s 292us/sample - loss: 0.1838 - accuracy: 0.9726 - val_loss: 0.1247 - val_accuracy: 1.0000\n",
      "Epoch 44/50\n",
      "164/164 [==============================] - 0s 316us/sample - loss: 0.1683 - accuracy: 0.9756 - val_loss: 0.1180 - val_accuracy: 1.0000\n",
      "Epoch 45/50\n",
      "164/164 [==============================] - 0s 322us/sample - loss: 0.1626 - accuracy: 0.9817 - val_loss: 0.1115 - val_accuracy: 1.0000\n",
      "Epoch 46/50\n",
      "164/164 [==============================] - 0s 310us/sample - loss: 0.1421 - accuracy: 0.9939 - val_loss: 0.1085 - val_accuracy: 1.0000\n",
      "Epoch 47/50\n",
      "164/164 [==============================] - 0s 207us/sample - loss: 0.1644 - accuracy: 0.9756 - val_loss: 0.1114 - val_accuracy: 1.0000\n",
      "Epoch 48/50\n",
      "164/164 [==============================] - 0s 292us/sample - loss: 0.1334 - accuracy: 0.9756 - val_loss: 0.1068 - val_accuracy: 1.0000\n",
      "Epoch 49/50\n",
      "164/164 [==============================] - 0s 304us/sample - loss: 0.1417 - accuracy: 0.9817 - val_loss: 0.0999 - val_accuracy: 1.0000\n",
      "Epoch 50/50\n",
      "164/164 [==============================] - 0s 286us/sample - loss: 0.1512 - accuracy: 0.9817 - val_loss: 0.0998 - val_accuracy: 1.0000\n"
     ]
    }
   ],
   "source": [
    "filename = 'CNN_model_2.h5'\n",
    "checkpoint = ModelCheckpoint(filename, monitor='val_loss', save_best_only=True, mode='min')\n",
    "history = model.fit(X_train, Y_train,\n",
    "                    epochs=50,\n",
    "                    validation_data=(X_test, Y_test),\n",
    "                    batch_size=32, \n",
    "                    callbacks = [checkpoint])\n",
    "\n"
   ]
  },
  {
   "cell_type": "code",
   "execution_count": 186,
   "metadata": {},
   "outputs": [
    {
     "name": "stdout",
     "output_type": "stream",
     "text": [
      "42/42 [==============================] - 0s 3ms/sample - loss: 0.0998 - accuracy: 1.0000\n",
      "Test set\n",
      "  Loss: 0.100\n",
      "  Accuracy: 1.000\n"
     ]
    }
   ],
   "source": [
    "model = load_model(\"CNN_model.h5\")\n",
    "acc = model.evaluate(X_test,Y_test)\n",
    "\n",
    "print('Test set\\n  Loss: {:0.3f}\\n  Accuracy: {:0.3f}'.format(acc[0],acc[1]))"
   ]
  },
  {
   "cell_type": "code",
   "execution_count": 187,
   "metadata": {},
   "outputs": [
    {
     "data": {
      "image/png": "[encoded data removed]",
      "text/plain": [
       "<Figure size 720x360 with 2 Axes>"
      ]
     },
     "metadata": {
      "needs_background": "light"
     },
     "output_type": "display_data"
    }
   ],
   "source": [
    "plot(history)"
   ]
  },
  {
   "cell_type": "code",
   "execution_count": 190,
   "metadata": {},
   "outputs": [],
   "source": [
    "cnn_model = load_model(\"CNN_model.h5\")\n"
   ]
  },
  {
   "cell_type": "code",
   "execution_count": 191,
   "metadata": {},
   "outputs": [
    {
     "name": "stdout",
     "output_type": "stream",
     "text": [
      "FindConnection  = 0.3234832\n",
      "DepartureTime  = 0.67009175\n"
     ]
    }
   ],
   "source": [
    "text = \"When does the next bus leaves at garching forschungszentrum\"\n",
    "predictions = pred(cnn_model,text,intents)\n"
   ]
  },
  {
   "cell_type": "markdown",
   "metadata": {},
   "source": [
    "# LSTM Model"
   ]
  },
  {
   "cell_type": "code",
   "execution_count": 44,
   "metadata": {},
   "outputs": [
    {
     "name": "stdout",
     "output_type": "stream",
     "text": [
      "Model: \"sequential_5\"\n",
      "_________________________________________________________________\n",
      "Layer (type)                 Output Shape              Param #   \n",
      "=================================================================\n",
      "embedding_5 (Embedding)      (None, 17, 100)           17400     \n",
      "_________________________________________________________________\n",
      "spatial_dropout1d_1 (Spatial (None, 17, 100)           0         \n",
      "_________________________________________________________________\n",
      "lstm_5 (LSTM)                (None, 100)               80400     \n",
      "_________________________________________________________________\n",
      "dense_10 (Dense)             (None, 50)                5050      \n",
      "_________________________________________________________________\n",
      "dense_11 (Dense)             (None, 2)                 102       \n",
      "=================================================================\n",
      "Total params: 102,952\n",
      "Trainable params: 102,952\n",
      "Non-trainable params: 0\n",
      "_________________________________________________________________\n",
      "None\n"
     ]
    }
   ],
   "source": [
    "#LSTM\n",
    "\n",
    "model = Sequential()\n",
    "model.add(Embedding(NB_WORDS, EMBEDDING_DIM, input_length=X.shape[1]))\n",
    "model.add(SpatialDropout1D(0.5))\n",
    "model.add(LSTM(100, dropout=0.3, recurrent_dropout=0.2))\n",
    "model.add(Dense(50, activation='relu', kernel_regularizer=regularizers.l2(0.02)))\n",
    "model.add(Dense(2, activation='softmax'))\n",
    "#adam = optimizers.Adam(lr=0.00008, beta_1=0.9, beta_2=0.999, epsilon=1e-08, decay=0.0)\n",
    "model.compile(loss='binary_crossentropy', optimizer='adam', metrics=['accuracy'])\n",
    "\n",
    "print(model.summary())\n",
    "\n"
   ]
  },
  {
   "cell_type": "code",
   "execution_count": 61,
   "metadata": {},
   "outputs": [
    {
     "name": "stdout",
     "output_type": "stream",
     "text": [
      "Train on 164 samples, validate on 42 samples\n",
      "Epoch 1/50\n",
      "164/164 [==============================] - 4s 25ms/sample - loss: 0.6920 - accuracy: 0.5152 - val_loss: 0.6892 - val_accuracy: 0.5714\n",
      "Epoch 2/50\n",
      "164/164 [==============================] - 0s 1ms/sample - loss: 0.6842 - accuracy: 0.5732 - val_loss: 0.6851 - val_accuracy: 0.5714\n",
      "Epoch 3/50\n",
      "164/164 [==============================] - 0s 1ms/sample - loss: 0.6734 - accuracy: 0.6006 - val_loss: 0.6812 - val_accuracy: 0.5714\n",
      "Epoch 4/50\n",
      "164/164 [==============================] - 0s 1ms/sample - loss: 0.6654 - accuracy: 0.6128 - val_loss: 0.6783 - val_accuracy: 0.5714\n",
      "Epoch 5/50\n",
      "164/164 [==============================] - 0s 1ms/sample - loss: 0.6646 - accuracy: 0.6067 - val_loss: 0.6709 - val_accuracy: 0.5714\n",
      "Epoch 6/50\n",
      "164/164 [==============================] - 0s 1ms/sample - loss: 0.6577 - accuracy: 0.6098 - val_loss: 0.6638 - val_accuracy: 0.5714\n",
      "Epoch 7/50\n",
      "164/164 [==============================] - 0s 1ms/sample - loss: 0.6464 - accuracy: 0.6037 - val_loss: 0.6504 - val_accuracy: 0.5714\n",
      "Epoch 8/50\n",
      "164/164 [==============================] - 0s 1ms/sample - loss: 0.6216 - accuracy: 0.6280 - val_loss: 0.6125 - val_accuracy: 0.5714\n",
      "Epoch 9/50\n",
      "164/164 [==============================] - 0s 1ms/sample - loss: 0.5584 - accuracy: 0.6494 - val_loss: 0.4582 - val_accuracy: 0.8214\n",
      "Epoch 10/50\n",
      "164/164 [==============================] - 0s 1ms/sample - loss: 0.4176 - accuracy: 0.8689 - val_loss: 0.3282 - val_accuracy: 0.9524\n",
      "Epoch 11/50\n",
      "164/164 [==============================] - 0s 1ms/sample - loss: 0.3076 - accuracy: 0.9146 - val_loss: 0.1992 - val_accuracy: 0.9762\n",
      "Epoch 12/50\n",
      "164/164 [==============================] - 0s 1ms/sample - loss: 0.2644 - accuracy: 0.9360 - val_loss: 0.1860 - val_accuracy: 0.9524\n",
      "Epoch 13/50\n",
      "164/164 [==============================] - 0s 1ms/sample - loss: 0.3431 - accuracy: 0.8720 - val_loss: 0.3864 - val_accuracy: 0.8095\n",
      "Epoch 14/50\n",
      "164/164 [==============================] - 0s 961us/sample - loss: 0.3167 - accuracy: 0.8659 - val_loss: 0.2211 - val_accuracy: 0.9167\n",
      "Epoch 15/50\n",
      "164/164 [==============================] - 0s 1ms/sample - loss: 0.2188 - accuracy: 0.9146 - val_loss: 0.1399 - val_accuracy: 0.9762\n",
      "Epoch 16/50\n",
      "164/164 [==============================] - 0s 1ms/sample - loss: 0.1903 - accuracy: 0.9451 - val_loss: 0.1228 - val_accuracy: 0.9762\n",
      "Epoch 17/50\n",
      "164/164 [==============================] - 0s 1ms/sample - loss: 0.2072 - accuracy: 0.9451 - val_loss: 0.0971 - val_accuracy: 0.9762\n",
      "Epoch 18/50\n",
      "164/164 [==============================] - 0s 1ms/sample - loss: 0.1582 - accuracy: 0.9421 - val_loss: 0.0831 - val_accuracy: 0.9762\n",
      "Epoch 19/50\n",
      "164/164 [==============================] - 0s 1ms/sample - loss: 0.1087 - accuracy: 0.9665 - val_loss: 0.0698 - val_accuracy: 0.9762\n",
      "Epoch 20/50\n",
      "164/164 [==============================] - 0s 1ms/sample - loss: 0.0975 - accuracy: 0.9756 - val_loss: 0.0568 - val_accuracy: 0.9762\n",
      "Epoch 21/50\n",
      "164/164 [==============================] - 0s 1ms/sample - loss: 0.0795 - accuracy: 0.9787 - val_loss: 0.0525 - val_accuracy: 0.9762\n",
      "Epoch 22/50\n",
      "164/164 [==============================] - 0s 955us/sample - loss: 0.0729 - accuracy: 0.9817 - val_loss: 0.0530 - val_accuracy: 0.9762\n",
      "Epoch 23/50\n",
      "164/164 [==============================] - 0s 1ms/sample - loss: 0.0762 - accuracy: 0.9848 - val_loss: 0.0534 - val_accuracy: 0.9762\n",
      "Epoch 24/50\n",
      "164/164 [==============================] - 0s 967us/sample - loss: 0.0625 - accuracy: 0.9909 - val_loss: 0.0532 - val_accuracy: 0.9762\n",
      "Epoch 25/50\n",
      "164/164 [==============================] - 0s 979us/sample - loss: 0.0723 - accuracy: 0.9878 - val_loss: 0.0550 - val_accuracy: 0.9762\n",
      "Epoch 26/50\n",
      "164/164 [==============================] - 0s 1ms/sample - loss: 0.0605 - accuracy: 0.9848 - val_loss: 0.0534 - val_accuracy: 0.9762\n",
      "Epoch 27/50\n",
      "164/164 [==============================] - 0s 1ms/sample - loss: 0.0494 - accuracy: 0.9939 - val_loss: 0.0492 - val_accuracy: 0.9762\n",
      "Epoch 28/50\n",
      "164/164 [==============================] - 0s 1ms/sample - loss: 0.0608 - accuracy: 0.9939 - val_loss: 0.0192 - val_accuracy: 1.0000\n",
      "Epoch 29/50\n",
      "164/164 [==============================] - 0s 979us/sample - loss: 0.0438 - accuracy: 0.9909 - val_loss: 0.0416 - val_accuracy: 0.9762\n",
      "Epoch 30/50\n",
      "164/164 [==============================] - 0s 961us/sample - loss: 0.0575 - accuracy: 0.9909 - val_loss: 0.0509 - val_accuracy: 0.9762\n",
      "Epoch 31/50\n",
      "164/164 [==============================] - 0s 937us/sample - loss: 0.0613 - accuracy: 0.9939 - val_loss: 0.0507 - val_accuracy: 0.9762\n",
      "Epoch 32/50\n",
      "164/164 [==============================] - 0s 997us/sample - loss: 0.0593 - accuracy: 0.9909 - val_loss: 0.0443 - val_accuracy: 0.9762\n",
      "Epoch 33/50\n",
      "164/164 [==============================] - 0s 1ms/sample - loss: 0.0398 - accuracy: 0.9909 - val_loss: 0.0358 - val_accuracy: 0.9762\n",
      "Epoch 34/50\n",
      "164/164 [==============================] - 0s 924us/sample - loss: 0.0517 - accuracy: 0.9939 - val_loss: 0.0200 - val_accuracy: 1.0000\n",
      "Epoch 35/50\n",
      "164/164 [==============================] - 0s 943us/sample - loss: 0.0297 - accuracy: 0.9939 - val_loss: 0.0283 - val_accuracy: 0.9762\n",
      "Epoch 36/50\n",
      "164/164 [==============================] - 0s 991us/sample - loss: 0.0341 - accuracy: 0.9939 - val_loss: 0.0549 - val_accuracy: 0.9762\n",
      "Epoch 37/50\n",
      "164/164 [==============================] - 0s 949us/sample - loss: 0.0465 - accuracy: 0.9939 - val_loss: 0.0612 - val_accuracy: 0.9762\n",
      "Epoch 38/50\n",
      "164/164 [==============================] - 0s 955us/sample - loss: 0.0489 - accuracy: 0.9939 - val_loss: 0.0565 - val_accuracy: 0.9762\n",
      "Epoch 39/50\n",
      "164/164 [==============================] - 0s 949us/sample - loss: 0.0505 - accuracy: 0.9939 - val_loss: 0.0229 - val_accuracy: 0.9881\n",
      "Epoch 40/50\n",
      "164/164 [==============================] - 0s 930us/sample - loss: 0.0584 - accuracy: 0.9939 - val_loss: 0.0996 - val_accuracy: 0.9881\n",
      "Epoch 41/50\n",
      "164/164 [==============================] - 0s 930us/sample - loss: 0.0814 - accuracy: 0.9817 - val_loss: 0.0663 - val_accuracy: 0.9762\n",
      "Epoch 42/50\n",
      "164/164 [==============================] - 0s 961us/sample - loss: 0.0574 - accuracy: 0.9939 - val_loss: 0.0650 - val_accuracy: 0.9762\n",
      "Epoch 43/50\n",
      "164/164 [==============================] - 0s 1ms/sample - loss: 0.0532 - accuracy: 0.9939 - val_loss: 0.0575 - val_accuracy: 0.9762\n",
      "Epoch 44/50\n",
      "164/164 [==============================] - 0s 961us/sample - loss: 0.0544 - accuracy: 0.9939 - val_loss: 0.0514 - val_accuracy: 0.9762\n",
      "Epoch 45/50\n",
      "164/164 [==============================] - 0s 979us/sample - loss: 0.0382 - accuracy: 0.9939 - val_loss: 0.0493 - val_accuracy: 0.9762\n",
      "Epoch 46/50\n",
      "164/164 [==============================] - 0s 1ms/sample - loss: 0.0508 - accuracy: 0.9878 - val_loss: 0.0528 - val_accuracy: 0.9762\n",
      "Epoch 47/50\n",
      "164/164 [==============================] - 0s 979us/sample - loss: 0.0308 - accuracy: 0.9939 - val_loss: 0.0601 - val_accuracy: 0.9762\n",
      "Epoch 48/50\n",
      "164/164 [==============================] - 0s 991us/sample - loss: 0.0514 - accuracy: 0.9939 - val_loss: 0.0669 - val_accuracy: 0.9762\n",
      "Epoch 49/50\n",
      "164/164 [==============================] - 0s 985us/sample - loss: 0.0545 - accuracy: 0.9939 - val_loss: 0.0720 - val_accuracy: 0.9762\n",
      "Epoch 50/50\n",
      "164/164 [==============================] - 0s 961us/sample - loss: 0.0501 - accuracy: 0.9939 - val_loss: 0.0747 - val_accuracy: 0.9762\n"
     ]
    }
   ],
   "source": [
    "epochs = 50\n",
    "batch_size = 32\n",
    "filename = 'LSTM_model.h5'\n",
    "checkpoint = ModelCheckpoint(filename, monitor='val_loss', save_best_only=True, mode='min')\n",
    "history = model.fit(X_train, Y_train, epochs=epochs, batch_size=batch_size, validation_data = (X_test, Y_test), callbacks = [checkpoint])"
   ]
  },
  {
   "cell_type": "code",
   "execution_count": 62,
   "metadata": {},
   "outputs": [
    {
     "name": "stdout",
     "output_type": "stream",
     "text": [
      "42/42 [==============================] - 0s 11ms/sample - loss: 0.0192 - accuracy: 1.0000\n",
      "Test set\n",
      "  Loss: 0.019\n",
      "  Accuracy: 1.000\n"
     ]
    }
   ],
   "source": [
    "model = load_model(\"LSTM_model.h5\")\n",
    "acc = model.evaluate(X_test,Y_test)\n",
    "\n",
    "print('Test set\\n  Loss: {:0.3f}\\n  Accuracy: {:0.3f}'.format(acc[0],acc[1]))"
   ]
  },
  {
   "cell_type": "code",
   "execution_count": 63,
   "metadata": {},
   "outputs": [
    {
     "data": {
      "image/png": "[encoded data removed]",
      "text/plain": [
       "<Figure size 720x360 with 2 Axes>"
      ]
     },
     "metadata": {
      "needs_background": "light"
     },
     "output_type": "display_data"
    }
   ],
   "source": [
    "plot(history)"
   ]
  },
  {
   "cell_type": "code",
   "execution_count": 64,
   "metadata": {},
   "outputs": [],
   "source": [
    "lstm_model = load_model(\"LSTM_model.h5\")\n"
   ]
  },
  {
   "cell_type": "code",
   "execution_count": 65,
   "metadata": {},
   "outputs": [
    {
     "name": "stdout",
     "output_type": "stream",
     "text": [
      "FindConnection  = 0.9984567\n",
      "DepartureTime  = 0.00034624204\n"
     ]
    }
   ],
   "source": [
    "text = \"how i can get from marienplatz to garching\"\n",
    "\n",
    "predictions = pred(lstm_model,text,intents)"
   ]
  },
  {
   "cell_type": "code",
   "execution_count": null,
   "metadata": {},
   "outputs": [],
   "source": []
  },
  {
   "cell_type": "code",
   "execution_count": null,
   "metadata": {},
   "outputs": [],
   "source": []
  },
  {
   "cell_type": "code",
   "execution_count": null,
   "metadata": {},
   "outputs": [],
   "source": []
  }
 ],
 "metadata": {
  "kernelspec": {
   "display_name": "Python 3",
   "language": "python",
   "name": "python3"
  },
  "language_info": {
   "codemirror_mode": {
    "name": "ipython",
    "version": 3
   },
   "file_extension": ".py",
   "mimetype": "text/x-python",
   "name": "python",
   "nbconvert_exporter": "python",
   "pygments_lexer": "ipython3",
   "version": "3.7.9"
  }
 },
 "nbformat": 4,
 "nbformat_minor": 4
}
