{
 "cells": [
  {
   "cell_type": "markdown",
   "metadata": {},
   "source": [
    "# Intent Classification - Chatbot - ML"
   ]
  },
  {
   "cell_type": "code",
   "execution_count": 1,
   "metadata": {},
   "outputs": [],
   "source": [
    "from nltk import word_tokenize\n",
    "import pandas as pd \n",
    "import numpy as np\n",
    "import spacy\n",
    "import re\n",
    "from pandas import DataFrame\n",
    "import seaborn as sns\n",
    "import matplotlib.pyplot as plt\n",
    "import json"
   ]
  },
  {
   "cell_type": "code",
   "execution_count": 2,
   "metadata": {},
   "outputs": [],
   "source": [
    "from sklearn.model_selection import train_test_split\n",
    "from sklearn.feature_extraction.text import TfidfVectorizer, CountVectorizer, TfidfTransformer\n",
    "from sklearn.pipeline import Pipeline\n",
    "from sklearn.model_selection import cross_val_score\n",
    "from sklearn.svm import SVC\n",
    "from sklearn.ensemble import RandomForestClassifier, GradientBoostingClassifier\n",
    "from sklearn.neural_network import MLPClassifier\n",
    "from sklearn.linear_model import LogisticRegression, SGDClassifier\n",
    "from sklearn.naive_bayes import GaussianNB\n",
    "from sklearn.neighbors import KNeighborsClassifier\n",
    "from sklearn.metrics import accuracy_score, confusion_matrix, classification_report\n",
    "from sklearn import tree\n",
    "import xgboost as xgb"
   ]
  },
  {
   "cell_type": "code",
   "execution_count": 3,
   "metadata": {},
   "outputs": [],
   "source": [
    "with open(\"ChatbotCorpus.json\", 'r', encoding='utf-8') as f:\n",
    "    data = json.load(f)\n",
    "    intent_data = [[dat[\"text\"], dat[\"intent\"]] for dat in data[\"sentences\"]]"
   ]
  },
  {
   "cell_type": "code",
   "execution_count": 4,
   "metadata": {},
   "outputs": [
    {
     "data": {
      "text/plain": [
       "[['i want to go marienplatz', 'FindConnection'],\n",
       " ['when is the next train in muncher freiheit?', 'DepartureTime'],\n",
       " ['when does the next u-bahn leaves from garching forschungszentrum?',\n",
       "  'DepartureTime'],\n",
       " ['from olympia einkaufszentrum to hauptbahnhof', 'FindConnection'],\n",
       " ['when is the next train from winterstraße 12 to kieferngarten',\n",
       "  'FindConnection'],\n",
       " ['when is the next rocket from winterstraße 12 to kieferngarte',\n",
       "  'FindConnection'],\n",
       " ['can you find a connection from garching to hauptbahnhof?',\n",
       "  'FindConnection'],\n",
       " ['how to get from untere strassäcker 21 to fröttmaning', 'FindConnection'],\n",
       " ['how i can get from marienplatz to garching', 'FindConnection'],\n",
       " ['connection from boltzmannstraße to kieferngarten', 'FindConnection'],\n",
       " ['how to get from bonner platz to freimann?', 'FindConnection'],\n",
       " ['when is the next s-bahn leaving at garching?', 'DepartureTime'],\n",
       " ['how do i get from oez to hbf?', 'FindConnection'],\n",
       " ['how to get from winterstrasse 12 to fröttmaning', 'FindConnection'],\n",
       " ['how do i get from garching forschungszentrum to pasing', 'FindConnection'],\n",
       " ['theresienstraße to assling', 'FindConnection'],\n",
       " ['how can i get from theresienstraße to munich east?', 'FindConnection'],\n",
       " ['when does the next bus starts from garching?', 'DepartureTime'],\n",
       " ['from quiddestraße to garching?', 'FindConnection'],\n",
       " ['can you find a connection from kurt-eisner-straße to garching forschungszentrum?',\n",
       "  'FindConnection'],\n",
       " ['can you find a connection from quiddestraße to garching forschungszentrum?',\n",
       "  'FindConnection'],\n",
       " ['when does the next train leaves at garching?', 'DepartureTime'],\n",
       " ['from hauptbahnhof to garching?', 'FindConnection'],\n",
       " ['how can i get to glockenbachviertel from garching forschungszentrum?',\n",
       "  'FindConnection'],\n",
       " ['how i can get from garching to nordfriedhof', 'FindConnection'],\n",
       " ['how can i get to glockenbachviertel from garching forschungszentrum?',\n",
       "  'FindConnection'],\n",
       " ['when is the next train leaving in garching forschungszentrum',\n",
       "  'DepartureTime'],\n",
       " ['how can i get from moosach to quiddestraße?', 'FindConnection'],\n",
       " ['how can i get from moosach to poccistraße?', 'FindConnection'],\n",
       " ['how can i get from kurt-eisner-straße to garching forschungszentrum?',\n",
       "  'FindConnection'],\n",
       " ['how can i get from moosach to quiddestraße?', 'FindConnection'],\n",
       " ['how can i get from moosach to odeonsplatz?', 'FindConnection'],\n",
       " ['when does the next bus starts at garching?', 'DepartureTime'],\n",
       " [\"what's the shortest way from quiddestraße to odeonsplatz?\",\n",
       "  'FindConnection'],\n",
       " ['when is the next bus from ostbahnhof', 'DepartureTime'],\n",
       " ['how i can get from garching to neuperlach sued', 'FindConnection'],\n",
       " ['when is the next train in munchner freiheit?', 'DepartureTime'],\n",
       " ['how i can get from marienplatz to garching?', 'FindConnection'],\n",
       " ['how do i get from poccistraße to laim', 'FindConnection'],\n",
       " ['i want to go garching from marienplatz', 'FindConnection'],\n",
       " ['how i can get from marienplatz to garching?', 'FindConnection'],\n",
       " ['how can i get from hauptbahnhof to odeonsplatz', 'FindConnection'],\n",
       " ['prinzregentenplatz to rotkreuzplatz', 'FindConnection'],\n",
       " ['i want to go to garching from marienplatz', 'FindConnection'],\n",
       " ['next train from garching', 'DepartureTime'],\n",
       " ['from prinzregentenplatz to rotkreuzplatz', 'FindConnection'],\n",
       " ['when is the next subway from garching forschungszentrum', 'DepartureTime'],\n",
       " ['from garching to klinikum', 'FindConnection'],\n",
       " ['from garching foschungszentrum to odeonsplatz', 'FindConnection'],\n",
       " ['next bus in garching', 'DepartureTime'],\n",
       " ['when does the train leaving in garching forschungszentrum',\n",
       "  'DepartureTime'],\n",
       " ['next subway from garching forschungszentrum', 'DepartureTime'],\n",
       " ['tell me the next bus from garching', 'DepartureTime'],\n",
       " ['next bus from garching, please.', 'DepartureTime'],\n",
       " ['next bus from garching', 'DepartureTime'],\n",
       " ['next bus from central station', 'DepartureTime'],\n",
       " ['from garching to marienplatz', 'FindConnection'],\n",
       " ['next bus from garching.', 'DepartureTime'],\n",
       " ['connection from garching to hauptbahnhof?', 'FindConnection'],\n",
       " ['when does the next bus departs from garching?', 'DepartureTime'],\n",
       " ['find connection from hauptbahnhof to odeonsplatz', 'FindConnection'],\n",
       " ['when does the next u-bahn departs at garching forschungszentrum?',\n",
       "  'DepartureTime'],\n",
       " ['when does the next u-bahn departs at garching?', 'DepartureTime'],\n",
       " ['when does the next subway departs at garching', 'DepartureTime'],\n",
       " ['when is the next train in garching?', 'DepartureTime'],\n",
       " ['how to get from münchner freiheit to garching ?', 'FindConnection'],\n",
       " ['implerstraße to ostbahnhof', 'FindConnection'],\n",
       " ['how can i get from hauptbahnhof to odeonsplatz?', 'FindConnection'],\n",
       " ['how can i go from garching forschungszentrum to prinzregentenplatz',\n",
       "  'FindConnection'],\n",
       " ['how can i get from mangfallplatz to garching', 'FindConnection'],\n",
       " ['how can i get to hohenlindenerstraße', 'FindConnection'],\n",
       " ['harthaus to hackerbrücke', 'FindConnection'],\n",
       " ['how can i get from feldmoching to garching forschungszentrum?',\n",
       "  'FindConnection'],\n",
       " ['from marienplatz to petershausen', 'FindConnection'],\n",
       " ['when is the train from garching to marienplatz', 'FindConnection'],\n",
       " ['neufahrn to garching', 'FindConnection'],\n",
       " ['how can i get from mangfallplatz to garching', 'FindConnection'],\n",
       " ['how can i get to hohenlindenerstr', 'FindConnection'],\n",
       " ['when is the next bus from garching forschungzentrum', 'DepartureTime'],\n",
       " ['how do i get from spitzingplatz to poccistraße?', 'FindConnection'],\n",
       " ['how can i get from garching forschungszentrum to marienplatz',\n",
       "  'FindConnection'],\n",
       " ['how can i get from klinkum to marienplatz?', 'FindConnection'],\n",
       " ['how to get from alte heide to marienplatz', 'FindConnection'],\n",
       " ['next train from muenchen freicheit', 'DepartureTime'],\n",
       " ['depart in garching, i assume', 'DepartureTime'],\n",
       " ['when does the next u-bahn depart at garching?', 'DepartureTime'],\n",
       " ['the next bus from garching forschungzentrum', 'DepartureTime'],\n",
       " ['when is the next train in alte heide?', 'DepartureTime'],\n",
       " ['or depart from garching', 'DepartureTime'],\n",
       " ['hello munich city bot! how do i get from münchner freiheit to scheidplatz?',\n",
       "  'FindConnection'],\n",
       " ['how can i get from garching forschungszentrum to prinzregentenplatz',\n",
       "  'FindConnection'],\n",
       " ['how can i get from neufahrn to garching', 'FindConnection'],\n",
       " ['take me to the airport', 'FindConnection'],\n",
       " ['when does the next u6 leave from garching forschungszentrum',\n",
       "  'DepartureTime'],\n",
       " ['how i can get from munchner freiheit to nordfriedhof?', 'FindConnection'],\n",
       " ['from harthaus to hackerbrücke', 'FindConnection'],\n",
       " ['when is the train from garching', 'DepartureTime'],\n",
       " ['what is the next train from münchner freiheit', 'DepartureTime'],\n",
       " ['how can i get from theresienstrasse to garching forschungszentrum',\n",
       "  'FindConnection'],\n",
       " ['how can i get from münchner freiheit to odeonsplatz', 'FindConnection'],\n",
       " ['from garching to hauptbahnhof', 'FindConnection'],\n",
       " ['how can i get from garching to odeonsplatz', 'FindConnection'],\n",
       " ['start: neufahrn end:garching', 'FindConnection'],\n",
       " ['how can i get from studentenstadt to garching', 'FindConnection'],\n",
       " ['when is the next bus from garching', 'DepartureTime'],\n",
       " ['take me from hauptbahnhof to odeonsplatz', 'FindConnection'],\n",
       " [\"what's the shortest connection between quiddestraße and odeonsplatz?\",\n",
       "  'FindConnection'],\n",
       " ['what is the cheapest connection between quiddestraße and hauptbahnhof?',\n",
       "  'FindConnection'],\n",
       " [\"what's the shortest way between hauptbahnhof and odeonsplatz?\",\n",
       "  'FindConnection'],\n",
       " ['how can i get from garching to münchner freiheit as fast as possible?',\n",
       "  'FindConnection'],\n",
       " [\"what's the cheapest way from neuperlach süd to lehel?\", 'FindConnection'],\n",
       " ['how can i get from neuperlach zentrum to karlsplatz as fast as possible?',\n",
       "  'FindConnection'],\n",
       " ['could you give me the fastest connection between brudermühlstraße and alte heide?',\n",
       "  'FindConnection'],\n",
       " ['is there a train from neuperlach zentrum to garching at 3 pm?',\n",
       "  'FindConnection'],\n",
       " ['can you find a connection from olympiazentrum to lehel at 2 pm?',\n",
       "  'FindConnection'],\n",
       " ['i need a connection from harras to karl-preis-platz at 8 am.',\n",
       "  'FindConnection'],\n",
       " ['in need to be at hauptbahnhof at 1 pm, can you search a connection from garching forschungszentrum?',\n",
       "  'FindConnection'],\n",
       " ['i need to be in garching at 9', 'FindConnection'],\n",
       " ['can i take a bus from quiddestraße to hauptbahnhof?', 'FindConnection'],\n",
       " ['can you find the shortest way from moosfeld to milbertshofen?',\n",
       "  'FindConnection'],\n",
       " ['how can i get to neuperlach süd from garching forschungszentrum?',\n",
       "  'FindConnection'],\n",
       " ['can you find a bus from quiddestraße to lehel?', 'FindConnection'],\n",
       " ['is there a tram from karlsplatz to lehel?', 'FindConnection'],\n",
       " ['is there a bus from garching to moosach at around 5?', 'FindConnection'],\n",
       " ['is there a bus from odeonsplatz to hauptbahnhof at 3 pm?',\n",
       "  'FindConnection'],\n",
       " ['can you tell me the cheapest way from garching forschungszentrum to quiddestraße?',\n",
       "  'FindConnection'],\n",
       " ['how can i get to quiddestraße?', 'FindConnection'],\n",
       " ['when does the next bus leaves from hauptbahnhof?', 'DepartureTime'],\n",
       " ['how can i get from garching to hauptbahnhof?', 'FindConnection'],\n",
       " ['how can i get from kurt-eisner-straße to garching?', 'FindConnection'],\n",
       " ['when the next train in garching,forschungszentrum is leaving?',\n",
       "  'DepartureTime'],\n",
       " ['what is the next connection from garching forschungszentrum to odeonsplatz?',\n",
       "  'FindConnection'],\n",
       " ['how can i get from mossach to garching forschungszentrum?',\n",
       "  'FindConnection'],\n",
       " ['how can i get from garching forschungszentrum to odeonsplatz?',\n",
       "  'FindConnection'],\n",
       " ['how can i get from garching, forschungszentrum to odeonsplatz?',\n",
       "  'FindConnection'],\n",
       " ['how can i get from garching forschungszentrum to kurt-eisner-straße?',\n",
       "  'FindConnection'],\n",
       " ['how can i get to boltzmannstraße from quiddestraße?', 'FindConnection'],\n",
       " ['when does the next train departs from quiddestraße?', 'DepartureTime'],\n",
       " ['when the next train in garching forschungszentrum is leaving?',\n",
       "  'DepartureTime'],\n",
       " ['when is the next u6 leaving from garching?', 'DepartureTime'],\n",
       " ['when does the next train leave from garching forschungszentrum',\n",
       "  'DepartureTime'],\n",
       " ['when is the next u6?', 'DepartureTime'],\n",
       " ['when is the next subway leaving from garching?', 'DepartureTime'],\n",
       " ['when the next train in garching is leaving?', 'DepartureTime'],\n",
       " ['when is the next train leaving in garching', 'DepartureTime'],\n",
       " ['when does the next train leaves from odeonsplatz?', 'DepartureTime'],\n",
       " ['when does the next train leaves from quiddestraße?', 'DepartureTime'],\n",
       " ['when is the next train', 'DepartureTime'],\n",
       " ['when does the next bus leaves at garching forschungszentrum?',\n",
       "  'DepartureTime'],\n",
       " ['when does the next train leaves?', 'DepartureTime'],\n",
       " ['when does the next bus leave in garching?', 'DepartureTime'],\n",
       " ['when does the next s-bahn leaves from hauptbahnhof?', 'DepartureTime'],\n",
       " ['when does the next subway departes from odeonsplatz?', 'DepartureTime'],\n",
       " ['show me the next bus from garching!', 'DepartureTime'],\n",
       " ['when does the next tram starts from hauptbahnhof?', 'DepartureTime'],\n",
       " ['when will the next u-bahn depart from garching forschungszentrum?',\n",
       "  'DepartureTime'],\n",
       " ['show me the next bus from michaelibad.', 'DepartureTime'],\n",
       " ['when does the next train starts at sendlinger tor?', 'DepartureTime'],\n",
       " ['hey bot, when does the next bus starts at garching?', 'DepartureTime'],\n",
       " ['when does the next bus leaves at garching?', 'DepartureTime'],\n",
       " ['when is the bus from quiddestraße?', 'DepartureTime'],\n",
       " ['when can i get a bus at mariahilfplatz?', 'DepartureTime'],\n",
       " ['when does the next bus leaves at romanplatz?', 'DepartureTime'],\n",
       " ['when does the bus to röblingweg starts?', 'DepartureTime'],\n",
       " ['next bus from quiddestraße?', 'DepartureTime'],\n",
       " ['when is the next bus leaving from garching?', 'DepartureTime'],\n",
       " ['when is the train leaving in garching', 'DepartureTime'],\n",
       " ['when is the train leaving in garching?', 'DepartureTime'],\n",
       " ['how can i get from garching to odeonsplatz?', 'FindConnection'],\n",
       " ['when is adrians next subway leaving at garching forschungszentrum?',\n",
       "  'DepartureTime'],\n",
       " ['how can i get from olympiazentrum to hauptbahnhof?', 'FindConnection'],\n",
       " ['how can i get from quiddestraße to boltzmannstraße?', 'FindConnection'],\n",
       " ['how can i get from moosach to garching forschungszentrum?',\n",
       "  'FindConnection'],\n",
       " ['can you give me a connection from garching to odeonsplatz?',\n",
       "  'FindConnection'],\n",
       " ['when is the next train from garching', 'DepartureTime'],\n",
       " ['when comes the next train', 'DepartureTime'],\n",
       " ['when is the next train in nordfriedhof', 'DepartureTime'],\n",
       " ['when does the next train come at garching forschungszentrum',\n",
       "  'DepartureTime'],\n",
       " ['when is the next train from nordfriedhof to garching forschungszentrum',\n",
       "  'FindConnection'],\n",
       " ['i want to travel from garching to odeonsplatz?', 'FindConnection'],\n",
       " ['how can i get to sendlinger tor?', 'FindConnection'],\n",
       " ['how do i get to untere straussäcker?', 'FindConnection'],\n",
       " ['how can i get from garching to garching?', 'FindConnection'],\n",
       " ['how can i get from garching to sendlinger tor?', 'FindConnection'],\n",
       " ['how can i get from garchingto garching?', 'FindConnection'],\n",
       " ['when is the next train from garching', 'DepartureTime'],\n",
       " ['how do i get from marienplatz zu garching', 'FindConnection'],\n",
       " ['how can i get to milbertshofen from garching?', 'FindConnection'],\n",
       " ['when is the next train to garching', 'FindConnection'],\n",
       " ['how can i get from garching to milbertshofen?', 'FindConnection'],\n",
       " ['when does the next rocket leaves from garching forschungszentrum?',\n",
       "  'DepartureTime'],\n",
       " ['connection from untere straßäcker 21 to kieferngarten', 'FindConnection'],\n",
       " ['how to get from untere strassäcker 21 to frötmaning', 'FindConnection'],\n",
       " ['how to get from untere strassaecker 21 to frötmaning', 'FindConnection'],\n",
       " ['when is the next train from untere straßaecker 21 to kieferngarten',\n",
       "  'FindConnection'],\n",
       " ['when is the next train from untere straßaecker 21, garching to kieferngarten',\n",
       "  'FindConnection'],\n",
       " ['from garching to perlach', 'FindConnection'],\n",
       " ['how to get from garching to perlach?', 'FindConnection'],\n",
       " ['how to get from bonnerplatz to freimann', 'FindConnection'],\n",
       " ['when is the next train in nordfriedhof?', 'DepartureTime'],\n",
       " ['when is the next train in münchner freiheit?', 'DepartureTime'],\n",
       " ['connection from hauptbahnhof to odeonsplatz?', 'FindConnection'],\n",
       " ['how do i get from olympia einkaufszentrum to hauptbahnhof?',\n",
       "  'FindConnection'],\n",
       " ['when is the next bus in garching forschungszentrum', 'DepartureTime'],\n",
       " ['how can i get from garching to marienplatz', 'FindConnection'],\n",
       " ['from garching to studentenstadt', 'FindConnection']]"
      ]
     },
     "execution_count": 4,
     "metadata": {},
     "output_type": "execute_result"
    }
   ],
   "source": [
    "intent_data"
   ]
  },
  {
   "cell_type": "code",
   "execution_count": 5,
   "metadata": {},
   "outputs": [],
   "source": [
    "df = DataFrame (intent_data,columns=['Chat','Intent'])\n"
   ]
  },
  {
   "cell_type": "code",
   "execution_count": 6,
   "metadata": {},
   "outputs": [
    {
     "data": {
      "text/html": [
       "<div>\n",
       "<style scoped>\n",
       "    .dataframe tbody tr th:only-of-type {\n",
       "        vertical-align: middle;\n",
       "    }\n",
       "\n",
       "    .dataframe tbody tr th {\n",
       "        vertical-align: top;\n",
       "    }\n",
       "\n",
       "    .dataframe thead th {\n",
       "        text-align: right;\n",
       "    }\n",
       "</style>\n",
       "<table border=\"1\" class=\"dataframe\">\n",
       "  <thead>\n",
       "    <tr style=\"text-align: right;\">\n",
       "      <th></th>\n",
       "      <th>Chat</th>\n",
       "      <th>Intent</th>\n",
       "    </tr>\n",
       "  </thead>\n",
       "  <tbody>\n",
       "    <tr>\n",
       "      <th>0</th>\n",
       "      <td>i want to go marienplatz</td>\n",
       "      <td>FindConnection</td>\n",
       "    </tr>\n",
       "    <tr>\n",
       "      <th>1</th>\n",
       "      <td>when is the next train in muncher freiheit?</td>\n",
       "      <td>DepartureTime</td>\n",
       "    </tr>\n",
       "    <tr>\n",
       "      <th>2</th>\n",
       "      <td>when does the next u-bahn leaves from garching...</td>\n",
       "      <td>DepartureTime</td>\n",
       "    </tr>\n",
       "    <tr>\n",
       "      <th>3</th>\n",
       "      <td>from olympia einkaufszentrum to hauptbahnhof</td>\n",
       "      <td>FindConnection</td>\n",
       "    </tr>\n",
       "    <tr>\n",
       "      <th>4</th>\n",
       "      <td>when is the next train from winterstraße 12 to...</td>\n",
       "      <td>FindConnection</td>\n",
       "    </tr>\n",
       "    <tr>\n",
       "      <th>...</th>\n",
       "      <td>...</td>\n",
       "      <td>...</td>\n",
       "    </tr>\n",
       "    <tr>\n",
       "      <th>201</th>\n",
       "      <td>connection from hauptbahnhof to odeonsplatz?</td>\n",
       "      <td>FindConnection</td>\n",
       "    </tr>\n",
       "    <tr>\n",
       "      <th>202</th>\n",
       "      <td>how do i get from olympia einkaufszentrum to h...</td>\n",
       "      <td>FindConnection</td>\n",
       "    </tr>\n",
       "    <tr>\n",
       "      <th>203</th>\n",
       "      <td>when is the next bus in garching forschungszen...</td>\n",
       "      <td>DepartureTime</td>\n",
       "    </tr>\n",
       "    <tr>\n",
       "      <th>204</th>\n",
       "      <td>how can i get from garching to marienplatz</td>\n",
       "      <td>FindConnection</td>\n",
       "    </tr>\n",
       "    <tr>\n",
       "      <th>205</th>\n",
       "      <td>from garching to studentenstadt</td>\n",
       "      <td>FindConnection</td>\n",
       "    </tr>\n",
       "  </tbody>\n",
       "</table>\n",
       "<p>206 rows × 2 columns</p>\n",
       "</div>"
      ],
      "text/plain": [
       "                                                  Chat          Intent\n",
       "0                             i want to go marienplatz  FindConnection\n",
       "1          when is the next train in muncher freiheit?   DepartureTime\n",
       "2    when does the next u-bahn leaves from garching...   DepartureTime\n",
       "3         from olympia einkaufszentrum to hauptbahnhof  FindConnection\n",
       "4    when is the next train from winterstraße 12 to...  FindConnection\n",
       "..                                                 ...             ...\n",
       "201       connection from hauptbahnhof to odeonsplatz?  FindConnection\n",
       "202  how do i get from olympia einkaufszentrum to h...  FindConnection\n",
       "203  when is the next bus in garching forschungszen...   DepartureTime\n",
       "204         how can i get from garching to marienplatz  FindConnection\n",
       "205                    from garching to studentenstadt  FindConnection\n",
       "\n",
       "[206 rows x 2 columns]"
      ]
     },
     "execution_count": 6,
     "metadata": {},
     "output_type": "execute_result"
    }
   ],
   "source": [
    "df"
   ]
  },
  {
   "cell_type": "code",
   "execution_count": 7,
   "metadata": {},
   "outputs": [
    {
     "name": "stdout",
     "output_type": "stream",
     "text": [
      "<class 'pandas.core.frame.DataFrame'>\n",
      "RangeIndex: 206 entries, 0 to 205\n",
      "Data columns (total 2 columns):\n",
      " #   Column  Non-Null Count  Dtype \n",
      "---  ------  --------------  ----- \n",
      " 0   Chat    206 non-null    object\n",
      " 1   Intent  206 non-null    object\n",
      "dtypes: object(2)\n",
      "memory usage: 3.3+ KB\n"
     ]
    }
   ],
   "source": [
    "df.info()"
   ]
  },
  {
   "cell_type": "code",
   "execution_count": 8,
   "metadata": {},
   "outputs": [
    {
     "data": {
      "text/plain": [
       "FindConnection    128\n",
       "DepartureTime      78\n",
       "Name: Intent, dtype: int64"
      ]
     },
     "execution_count": 8,
     "metadata": {},
     "output_type": "execute_result"
    }
   ],
   "source": [
    "df['Intent'].value_counts() "
   ]
  },
  {
   "cell_type": "code",
   "execution_count": 9,
   "metadata": {},
   "outputs": [
    {
     "data": {
      "image/png": "[encoded data removed]",
      "text/plain": [
       "<Figure size 432x288 with 1 Axes>"
      ]
     },
     "metadata": {
      "needs_background": "light"
     },
     "output_type": "display_data"
    }
   ],
   "source": [
    "sns.countplot(df['Intent'],label=\"Count\")\n",
    "plt.show()"
   ]
  },
  {
   "cell_type": "code",
   "execution_count": 10,
   "metadata": {},
   "outputs": [],
   "source": [
    "def clean_text(text):\n",
    "    text = re.sub(r'[^A-Za-z0-9 ]+', '', text)\n",
    "    text = text.lower()\n",
    "    return text\n",
    "   "
   ]
  },
  {
   "cell_type": "code",
   "execution_count": 11,
   "metadata": {},
   "outputs": [],
   "source": [
    "df['clean_chat'] = df['Chat'].apply(clean_text)"
   ]
  },
  {
   "cell_type": "code",
   "execution_count": 12,
   "metadata": {},
   "outputs": [
    {
     "data": {
      "text/html": [
       "<div>\n",
       "<style scoped>\n",
       "    .dataframe tbody tr th:only-of-type {\n",
       "        vertical-align: middle;\n",
       "    }\n",
       "\n",
       "    .dataframe tbody tr th {\n",
       "        vertical-align: top;\n",
       "    }\n",
       "\n",
       "    .dataframe thead th {\n",
       "        text-align: right;\n",
       "    }\n",
       "</style>\n",
       "<table border=\"1\" class=\"dataframe\">\n",
       "  <thead>\n",
       "    <tr style=\"text-align: right;\">\n",
       "      <th></th>\n",
       "      <th>Chat</th>\n",
       "      <th>Intent</th>\n",
       "      <th>clean_chat</th>\n",
       "    </tr>\n",
       "  </thead>\n",
       "  <tbody>\n",
       "    <tr>\n",
       "      <th>0</th>\n",
       "      <td>i want to go marienplatz</td>\n",
       "      <td>FindConnection</td>\n",
       "      <td>i want to go marienplatz</td>\n",
       "    </tr>\n",
       "    <tr>\n",
       "      <th>1</th>\n",
       "      <td>when is the next train in muncher freiheit?</td>\n",
       "      <td>DepartureTime</td>\n",
       "      <td>when is the next train in muncher freiheit</td>\n",
       "    </tr>\n",
       "    <tr>\n",
       "      <th>2</th>\n",
       "      <td>when does the next u-bahn leaves from garching...</td>\n",
       "      <td>DepartureTime</td>\n",
       "      <td>when does the next ubahn leaves from garching ...</td>\n",
       "    </tr>\n",
       "    <tr>\n",
       "      <th>3</th>\n",
       "      <td>from olympia einkaufszentrum to hauptbahnhof</td>\n",
       "      <td>FindConnection</td>\n",
       "      <td>from olympia einkaufszentrum to hauptbahnhof</td>\n",
       "    </tr>\n",
       "    <tr>\n",
       "      <th>4</th>\n",
       "      <td>when is the next train from winterstraße 12 to...</td>\n",
       "      <td>FindConnection</td>\n",
       "      <td>when is the next train from winterstrae 12 to ...</td>\n",
       "    </tr>\n",
       "    <tr>\n",
       "      <th>5</th>\n",
       "      <td>when is the next rocket from winterstraße 12 t...</td>\n",
       "      <td>FindConnection</td>\n",
       "      <td>when is the next rocket from winterstrae 12 to...</td>\n",
       "    </tr>\n",
       "    <tr>\n",
       "      <th>6</th>\n",
       "      <td>can you find a connection from garching to hau...</td>\n",
       "      <td>FindConnection</td>\n",
       "      <td>can you find a connection from garching to hau...</td>\n",
       "    </tr>\n",
       "    <tr>\n",
       "      <th>7</th>\n",
       "      <td>how to get from untere strassäcker 21 to frött...</td>\n",
       "      <td>FindConnection</td>\n",
       "      <td>how to get from untere strasscker 21 to frttma...</td>\n",
       "    </tr>\n",
       "    <tr>\n",
       "      <th>8</th>\n",
       "      <td>how i can get from marienplatz to garching</td>\n",
       "      <td>FindConnection</td>\n",
       "      <td>how i can get from marienplatz to garching</td>\n",
       "    </tr>\n",
       "    <tr>\n",
       "      <th>9</th>\n",
       "      <td>connection from boltzmannstraße to kieferngarten</td>\n",
       "      <td>FindConnection</td>\n",
       "      <td>connection from boltzmannstrae to kieferngarten</td>\n",
       "    </tr>\n",
       "    <tr>\n",
       "      <th>10</th>\n",
       "      <td>how to get from bonner platz to freimann?</td>\n",
       "      <td>FindConnection</td>\n",
       "      <td>how to get from bonner platz to freimann</td>\n",
       "    </tr>\n",
       "    <tr>\n",
       "      <th>11</th>\n",
       "      <td>when is the next s-bahn leaving at garching?</td>\n",
       "      <td>DepartureTime</td>\n",
       "      <td>when is the next sbahn leaving at garching</td>\n",
       "    </tr>\n",
       "    <tr>\n",
       "      <th>12</th>\n",
       "      <td>how do i get from oez to hbf?</td>\n",
       "      <td>FindConnection</td>\n",
       "      <td>how do i get from oez to hbf</td>\n",
       "    </tr>\n",
       "    <tr>\n",
       "      <th>13</th>\n",
       "      <td>how to get from winterstrasse 12 to fröttmaning</td>\n",
       "      <td>FindConnection</td>\n",
       "      <td>how to get from winterstrasse 12 to frttmaning</td>\n",
       "    </tr>\n",
       "    <tr>\n",
       "      <th>14</th>\n",
       "      <td>how do i get from garching forschungszentrum t...</td>\n",
       "      <td>FindConnection</td>\n",
       "      <td>how do i get from garching forschungszentrum t...</td>\n",
       "    </tr>\n",
       "    <tr>\n",
       "      <th>15</th>\n",
       "      <td>theresienstraße to assling</td>\n",
       "      <td>FindConnection</td>\n",
       "      <td>theresienstrae to assling</td>\n",
       "    </tr>\n",
       "    <tr>\n",
       "      <th>16</th>\n",
       "      <td>how can i get from theresienstraße to munich e...</td>\n",
       "      <td>FindConnection</td>\n",
       "      <td>how can i get from theresienstrae to munich east</td>\n",
       "    </tr>\n",
       "    <tr>\n",
       "      <th>17</th>\n",
       "      <td>when does the next bus starts from garching?</td>\n",
       "      <td>DepartureTime</td>\n",
       "      <td>when does the next bus starts from garching</td>\n",
       "    </tr>\n",
       "    <tr>\n",
       "      <th>18</th>\n",
       "      <td>from quiddestraße to garching?</td>\n",
       "      <td>FindConnection</td>\n",
       "      <td>from quiddestrae to garching</td>\n",
       "    </tr>\n",
       "    <tr>\n",
       "      <th>19</th>\n",
       "      <td>can you find a connection from kurt-eisner-str...</td>\n",
       "      <td>FindConnection</td>\n",
       "      <td>can you find a connection from kurteisnerstrae...</td>\n",
       "    </tr>\n",
       "  </tbody>\n",
       "</table>\n",
       "</div>"
      ],
      "text/plain": [
       "                                                 Chat          Intent  \\\n",
       "0                            i want to go marienplatz  FindConnection   \n",
       "1         when is the next train in muncher freiheit?   DepartureTime   \n",
       "2   when does the next u-bahn leaves from garching...   DepartureTime   \n",
       "3        from olympia einkaufszentrum to hauptbahnhof  FindConnection   \n",
       "4   when is the next train from winterstraße 12 to...  FindConnection   \n",
       "5   when is the next rocket from winterstraße 12 t...  FindConnection   \n",
       "6   can you find a connection from garching to hau...  FindConnection   \n",
       "7   how to get from untere strassäcker 21 to frött...  FindConnection   \n",
       "8          how i can get from marienplatz to garching  FindConnection   \n",
       "9    connection from boltzmannstraße to kieferngarten  FindConnection   \n",
       "10          how to get from bonner platz to freimann?  FindConnection   \n",
       "11       when is the next s-bahn leaving at garching?   DepartureTime   \n",
       "12                      how do i get from oez to hbf?  FindConnection   \n",
       "13    how to get from winterstrasse 12 to fröttmaning  FindConnection   \n",
       "14  how do i get from garching forschungszentrum t...  FindConnection   \n",
       "15                         theresienstraße to assling  FindConnection   \n",
       "16  how can i get from theresienstraße to munich e...  FindConnection   \n",
       "17       when does the next bus starts from garching?   DepartureTime   \n",
       "18                     from quiddestraße to garching?  FindConnection   \n",
       "19  can you find a connection from kurt-eisner-str...  FindConnection   \n",
       "\n",
       "                                           clean_chat  \n",
       "0                            i want to go marienplatz  \n",
       "1          when is the next train in muncher freiheit  \n",
       "2   when does the next ubahn leaves from garching ...  \n",
       "3        from olympia einkaufszentrum to hauptbahnhof  \n",
       "4   when is the next train from winterstrae 12 to ...  \n",
       "5   when is the next rocket from winterstrae 12 to...  \n",
       "6   can you find a connection from garching to hau...  \n",
       "7   how to get from untere strasscker 21 to frttma...  \n",
       "8          how i can get from marienplatz to garching  \n",
       "9     connection from boltzmannstrae to kieferngarten  \n",
       "10           how to get from bonner platz to freimann  \n",
       "11         when is the next sbahn leaving at garching  \n",
       "12                       how do i get from oez to hbf  \n",
       "13     how to get from winterstrasse 12 to frttmaning  \n",
       "14  how do i get from garching forschungszentrum t...  \n",
       "15                          theresienstrae to assling  \n",
       "16   how can i get from theresienstrae to munich east  \n",
       "17        when does the next bus starts from garching  \n",
       "18                       from quiddestrae to garching  \n",
       "19  can you find a connection from kurteisnerstrae...  "
      ]
     },
     "execution_count": 12,
     "metadata": {},
     "output_type": "execute_result"
    }
   ],
   "source": [
    "df.head(20)"
   ]
  },
  {
   "cell_type": "code",
   "execution_count": 13,
   "metadata": {},
   "outputs": [],
   "source": [
    "X_train = df['clean_chat'].values\n",
    "y_train = df['Intent'].values"
   ]
  },
  {
   "cell_type": "code",
   "execution_count": 14,
   "metadata": {},
   "outputs": [
    {
     "data": {
      "text/plain": [
       "(206,)"
      ]
     },
     "execution_count": 14,
     "metadata": {},
     "output_type": "execute_result"
    }
   ],
   "source": [
    "X_train.shape"
   ]
  },
  {
   "cell_type": "code",
   "execution_count": 15,
   "metadata": {},
   "outputs": [],
   "source": [
    "def train(classifier, X_train, y_train):\n",
    "    clf_classifier = Pipeline([('vect', CountVectorizer()),\n",
    "                    ('tfidf', TfidfTransformer()),\n",
    "                    ('clf', classifier),\n",
    "                   ])\n",
    "\n",
    "    scores = cross_val_score(clf_classifier, X_train, y_train, scoring='accuracy', cv=10)\n",
    "    return scores.mean()\n"
   ]
  },
  {
   "cell_type": "code",
   "execution_count": 16,
   "metadata": {},
   "outputs": [],
   "source": [
    "classifiers = ['Support Vector Machine', 'Random Forest Classifier', 'Gradient Boosting Classifier', 'Logistic Regression', 'Neural Network', 'K Neighbors Classifier', 'Decision Tree Classifier', 'XGBoost', 'SGD Classifier']\n"
   ]
  },
  {
   "cell_type": "code",
   "execution_count": 17,
   "metadata": {},
   "outputs": [],
   "source": [
    "accr={}\n",
    "\n",
    "for classifier in classifiers:\n",
    "    \n",
    "    if classifier == 'Support Vector Machine':\n",
    "        clf = SVC(kernel=\"rbf\")\n",
    "        accr[classifier]=train(clf, X_train, y_train)\n",
    "    \n",
    "    elif classifier == 'Random Forest Classifier':\n",
    "        clf = RandomForestClassifier(n_estimators=90)\n",
    "        accr[classifier]=train(clf, X_train, y_train)\n",
    "\n",
    "    elif classifier == 'Gradient Boosting Classifier':\n",
    "        clf = GradientBoostingClassifier()\n",
    "        accr[classifier]=train(clf, X_train, y_train)\n",
    "\n",
    "    elif classifier == 'Logistic Regression':\n",
    "        clf = LogisticRegression(random_state=0, solver='lbfgs', multi_class='multinomial')\n",
    "        accr[classifier]=train(clf, X_train, y_train)\n",
    "\n",
    "    elif classifier == 'Neural Network':\n",
    "        clf = MLPClassifier(solver='lbfgs', alpha=1e-5,hidden_layer_sizes=(5, 2), random_state=1)\n",
    "        accr[classifier]=train(clf, X_train, y_train)\n",
    "\n",
    "    elif classifier == 'K Neighbors Classifier':\n",
    "        clf = KNeighborsClassifier()\n",
    "        accr[classifier]=train(clf, X_train, y_train)\n",
    "\n",
    "    elif classifier == 'Decision Tree Classifier':\n",
    "        clf = tree.DecisionTreeClassifier()\n",
    "        accr[classifier]=train(clf, X_train, y_train)\n",
    "        \n",
    "    elif classifier == 'XGBoost':\n",
    "        clf = xgb.XGBClassifier()\n",
    "        accr[classifier]=train(clf, X_train, y_train)\n",
    "        \n",
    "    elif classifier == 'SGD Classifier':\n",
    "        clf = SGDClassifier(loss='hinge', penalty='l2',alpha=1e-3, random_state=42, max_iter=5, tol=None)\n",
    "        accr[classifier]=train(clf, X_train, y_train)\n",
    "\n",
    "    "
   ]
  },
  {
   "cell_type": "code",
   "execution_count": 18,
   "metadata": {},
   "outputs": [
    {
     "data": {
      "text/plain": [
       "{'Support Vector Machine': 0.9607142857142857,\n",
       " 'Random Forest Classifier': 0.9373809523809523,\n",
       " 'Gradient Boosting Classifier': 0.9466666666666667,\n",
       " 'Logistic Regression': 0.965952380952381,\n",
       " 'Neural Network': 0.9030952380952382,\n",
       " 'K Neighbors Classifier': 0.961190476190476,\n",
       " 'Decision Tree Classifier': 0.9361904761904762,\n",
       " 'XGBoost': 0.9466666666666667,\n",
       " 'SGD Classifier': 0.9704761904761904}"
      ]
     },
     "execution_count": 18,
     "metadata": {},
     "output_type": "execute_result"
    }
   ],
   "source": [
    "accr"
   ]
  },
  {
   "cell_type": "code",
   "execution_count": 19,
   "metadata": {},
   "outputs": [],
   "source": [
    "model_df = pd.DataFrame(accr.items(), columns=['Model', 'Accuracy'])"
   ]
  },
  {
   "cell_type": "code",
   "execution_count": 20,
   "metadata": {},
   "outputs": [
    {
     "data": {
      "text/html": [
       "<div>\n",
       "<style scoped>\n",
       "    .dataframe tbody tr th:only-of-type {\n",
       "        vertical-align: middle;\n",
       "    }\n",
       "\n",
       "    .dataframe tbody tr th {\n",
       "        vertical-align: top;\n",
       "    }\n",
       "\n",
       "    .dataframe thead th {\n",
       "        text-align: right;\n",
       "    }\n",
       "</style>\n",
       "<table border=\"1\" class=\"dataframe\">\n",
       "  <thead>\n",
       "    <tr style=\"text-align: right;\">\n",
       "      <th></th>\n",
       "      <th>Model</th>\n",
       "      <th>Accuracy</th>\n",
       "    </tr>\n",
       "  </thead>\n",
       "  <tbody>\n",
       "    <tr>\n",
       "      <th>0</th>\n",
       "      <td>Support Vector Machine</td>\n",
       "      <td>0.960714</td>\n",
       "    </tr>\n",
       "    <tr>\n",
       "      <th>1</th>\n",
       "      <td>Random Forest Classifier</td>\n",
       "      <td>0.937381</td>\n",
       "    </tr>\n",
       "    <tr>\n",
       "      <th>2</th>\n",
       "      <td>Gradient Boosting Classifier</td>\n",
       "      <td>0.946667</td>\n",
       "    </tr>\n",
       "    <tr>\n",
       "      <th>3</th>\n",
       "      <td>Logistic Regression</td>\n",
       "      <td>0.965952</td>\n",
       "    </tr>\n",
       "    <tr>\n",
       "      <th>4</th>\n",
       "      <td>Neural Network</td>\n",
       "      <td>0.903095</td>\n",
       "    </tr>\n",
       "    <tr>\n",
       "      <th>5</th>\n",
       "      <td>K Neighbors Classifier</td>\n",
       "      <td>0.961190</td>\n",
       "    </tr>\n",
       "    <tr>\n",
       "      <th>6</th>\n",
       "      <td>Decision Tree Classifier</td>\n",
       "      <td>0.936190</td>\n",
       "    </tr>\n",
       "    <tr>\n",
       "      <th>7</th>\n",
       "      <td>XGBoost</td>\n",
       "      <td>0.946667</td>\n",
       "    </tr>\n",
       "    <tr>\n",
       "      <th>8</th>\n",
       "      <td>SGD Classifier</td>\n",
       "      <td>0.970476</td>\n",
       "    </tr>\n",
       "  </tbody>\n",
       "</table>\n",
       "</div>"
      ],
      "text/plain": [
       "                          Model  Accuracy\n",
       "0        Support Vector Machine  0.960714\n",
       "1      Random Forest Classifier  0.937381\n",
       "2  Gradient Boosting Classifier  0.946667\n",
       "3           Logistic Regression  0.965952\n",
       "4                Neural Network  0.903095\n",
       "5        K Neighbors Classifier  0.961190\n",
       "6      Decision Tree Classifier  0.936190\n",
       "7                       XGBoost  0.946667\n",
       "8                SGD Classifier  0.970476"
      ]
     },
     "execution_count": 20,
     "metadata": {},
     "output_type": "execute_result"
    }
   ],
   "source": [
    "model_df"
   ]
  },
  {
   "cell_type": "code",
   "execution_count": 21,
   "metadata": {},
   "outputs": [],
   "source": [
    "X_tra, X_test, y_tra, y_test = train_test_split(X_train, y_train, test_size=0.3, random_state = 42)"
   ]
  },
  {
   "cell_type": "code",
   "execution_count": 22,
   "metadata": {},
   "outputs": [
    {
     "data": {
      "text/plain": [
       "Pipeline(steps=[('vect', CountVectorizer()), ('tfidf', TfidfTransformer()),\n",
       "                ('clf',\n",
       "                 SGDClassifier(alpha=0.001, max_iter=5, random_state=42,\n",
       "                               tol=None))])"
      ]
     },
     "execution_count": 22,
     "metadata": {},
     "output_type": "execute_result"
    }
   ],
   "source": [
    "sgd = Pipeline([('vect', CountVectorizer()),\n",
    "                ('tfidf', TfidfTransformer()),\n",
    "                ('clf', SGDClassifier(loss='hinge', penalty='l2',alpha=1e-3, random_state=42, max_iter=5, tol=None)),\n",
    "               ])\n",
    "sgd.fit(X_tra, y_tra)"
   ]
  },
  {
   "cell_type": "code",
   "execution_count": 23,
   "metadata": {},
   "outputs": [
    {
     "name": "stdout",
     "output_type": "stream",
     "text": [
      "                precision    recall  f1-score   support\n",
      "\n",
      " DepartureTime       1.00      0.95      0.98        22\n",
      "FindConnection       0.98      1.00      0.99        40\n",
      "\n",
      "      accuracy                           0.98        62\n",
      "     macro avg       0.99      0.98      0.98        62\n",
      "  weighted avg       0.98      0.98      0.98        62\n",
      "\n"
     ]
    }
   ],
   "source": [
    "y_pred = sgd.predict(X_test)\n",
    "\n",
    "print(classification_report(y_test, y_pred))"
   ]
  },
  {
   "cell_type": "code",
   "execution_count": 24,
   "metadata": {},
   "outputs": [],
   "source": [
    "cm = confusion_matrix(y_test, y_pred)\n"
   ]
  },
  {
   "cell_type": "code",
   "execution_count": 25,
   "metadata": {},
   "outputs": [
    {
     "data": {
      "text/plain": [
       "Text(0.5, 1.0, 'Confusion Matrix')"
      ]
     },
     "execution_count": 25,
     "metadata": {},
     "output_type": "execute_result"
    },
    {
     "data": {
      "image/png": "[encoded data removed]",
      "text/plain": [
       "<Figure size 432x288 with 2 Axes>"
      ]
     },
     "metadata": {
      "needs_background": "light"
     },
     "output_type": "display_data"
    }
   ],
   "source": [
    "ax= plt.subplot()\n",
    "sns.heatmap(cm, annot=True, ax = ax, fmt='g',cmap='Blues'); \n",
    "\n",
    "# labels, title and ticks\n",
    "ax.xaxis.set_ticklabels(['DepartureTime', 'FindConnection']); \n",
    "ax.yaxis.set_ticklabels(['DepartureTime', 'FindConnection']);\n",
    "ax.set_xlabel('Predicted labels')\n",
    "ax.set_ylabel('True labels')\n",
    "ax.set_title('Confusion Matrix') "
   ]
  },
  {
   "cell_type": "code",
   "execution_count": 26,
   "metadata": {},
   "outputs": [
    {
     "data": {
      "text/plain": [
       "array(['FindConnection'], dtype='<U14')"
      ]
     },
     "execution_count": 26,
     "metadata": {},
     "output_type": "execute_result"
    }
   ],
   "source": [
    "text = \"When is the next train from Bayern to Franfurt\"\n",
    "y_pred = sgd.predict([text])\n",
    "y_pred"
   ]
  },
  {
   "cell_type": "code",
   "execution_count": 27,
   "metadata": {},
   "outputs": [
    {
     "data": {
      "text/plain": [
       "array(['DepartureTime'], dtype='<U14')"
      ]
     },
     "execution_count": 27,
     "metadata": {},
     "output_type": "execute_result"
    }
   ],
   "source": [
    "text = \"what time is the next bus\"\n",
    "y_pred = sgd.predict([text])\n",
    "y_pred"
   ]
  },
  {
   "cell_type": "code",
   "execution_count": null,
   "metadata": {},
   "outputs": [],
   "source": []
  },
  {
   "cell_type": "markdown",
   "metadata": {},
   "source": [
    "# LINGUISTIC ANALYSIS\n"
   ]
  },
  {
   "cell_type": "code",
   "execution_count": null,
   "metadata": {},
   "outputs": [],
   "source": [
    "EXAMPLE 1:\n",
    "    \n",
    "\"text\": \"when is the next train from Winterstrae-12 to kieferngarten\",\n",
    "\"intent\": \"FindConnection\"\n",
    "\n",
    "    \n",
    "when ADV\n",
    "is AUX\n",
    "the next train NOUN\n",
    "from ADP\n",
    "Winterstrae-12 PROPN\n",
    "to ADP\n",
    "Kieferngarten? PROPN"
   ]
  },
  {
   "cell_type": "code",
   "execution_count": null,
   "metadata": {},
   "outputs": [],
   "source": [
    "EXAMPLE 2:\n",
    "\"text\": \"when does the next u-bahn leaves from Garching-forschungszentrum?\",\n",
    "\"intent\": \"DepartureTime\"\n",
    "    \n",
    "when ADV\n",
    "does AUX\n",
    "the next U-bahn leaves NOUN\n",
    "from ADP\n",
    "Garching-forschungszentrum? PROPN"
   ]
  },
  {
   "cell_type": "code",
   "execution_count": null,
   "metadata": {},
   "outputs": [],
   "source": [
    "\n",
    "Example 1 and 2 have different Intents. \n",
    "But when we are analysing the lingustic features, the syntactic structure of both are similar.\n",
    "\n",
    "1 : ADV-AUX-NOUN-ADP-PROPN-ADP-PR0PN\n",
    "2 : ADV-AUX-NOUN-ADP-PROPN\n",
    "\n",
    "Also, the starting ADJ is also same. 'When<ADJ>' denotes the temporal aspect, so can easily be confused as DepartureTime.\n",
    "This feature is most important consideration while doing error-analysis for bigger datasets\n",
    "\n",
    "So the syntactic feature at last part of sentence ADP<to>-PROPN<GPE-entity> is most significant bit."
   ]
  },
  {
   "cell_type": "markdown",
   "metadata": {},
   "source": [
    "# Cross-Lingual / Multi-lingual dependency"
   ]
  },
  {
   "cell_type": "code",
   "execution_count": null,
   "metadata": {},
   "outputs": [],
   "source": [
    "Language-Dependent Modules\n",
    "\n",
    "Preprocessing Module:\n",
    "1. Text Cleaning\n",
    "2. Tokenization\n",
    "3. Word2Vec Embeddings\n",
    "\n",
    "Language-Independent Modules\n",
    "1. Building model\n",
    "2. Training \n",
    "3. Prediction"
   ]
  },
  {
   "cell_type": "markdown",
   "metadata": {},
   "source": [
    "# Code-Mixed Data "
   ]
  },
  {
   "cell_type": "code",
   "execution_count": null,
   "metadata": {},
   "outputs": [],
   "source": [
    "Issues: \n",
    "    \n",
    "1. Romanized Dataset \n",
    "\n",
    "2. Contractions\n",
    "    Ex: ”between”→”btwn” ; ”bhut bdiya”\n",
    "\n",
    "3. Non-grammatical constructions\n",
    "    Ex: ”sirji hlp plzz naa”\n"
   ]
  },
  {
   "cell_type": "code",
   "execution_count": null,
   "metadata": {},
   "outputs": [],
   "source": [
    "Solution (New & Open-ended Reaserch problem):\n",
    "\n",
    "1. Language Identification Module\n",
    "\n",
    "2. Cross-Lingual word embeddings & Parallel corpus\n",
    "\n",
    "3. Micro-word architecture for finding language-mix in a single word \n",
    "    Ex: Sirji  Sir: en and ji: Hin\n",
    "    \n",
    "4. Hybrid approaches using DL+Linguistics\n"
   ]
  },
  {
   "cell_type": "markdown",
   "metadata": {},
   "source": [
    "# Sparse - Data Problem "
   ]
  },
  {
   "cell_type": "code",
   "execution_count": null,
   "metadata": {},
   "outputs": [],
   "source": [
    "More tarining data can be generated using:\n",
    "    \n",
    "1. Data Augmentation (using simlarity metrics)\n",
    "2. Template-based data generation\n",
    "3. Synthetic data using SMOTE\n",
    "4. Transfer Learning Techniques"
   ]
  },
  {
   "cell_type": "code",
   "execution_count": null,
   "metadata": {},
   "outputs": [],
   "source": []
  }
 ],
 "metadata": {
  "kernelspec": {
   "display_name": "Python 3",
   "language": "python",
   "name": "python3"
  },
  "language_info": {
   "codemirror_mode": {
    "name": "ipython",
    "version": 3
   },
   "file_extension": ".py",
   "mimetype": "text/x-python",
   "name": "python",
   "nbconvert_exporter": "python",
   "pygments_lexer": "ipython3",
   "version": "3.7.9"
  }
 },
 "nbformat": 4,
 "nbformat_minor": 4
}
